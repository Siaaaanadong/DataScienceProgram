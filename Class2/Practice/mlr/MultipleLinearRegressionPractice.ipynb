{
 "cells": [
  {
   "cell_type": "markdown",
   "metadata": {},
   "source": [
    "# This practice will cover learning points in class2\n",
    "### 1 - Fit MLR model in python with sklearn and statesmodel packages\n",
    "### 2 - Model Selection\n",
    "### 3 - Weighted regression\n",
    "### 4 - Regularization, L1 and L2"
   ]
  },
  {
   "cell_type": "markdown",
   "metadata": {},
   "source": [
    "Import required Python packages."
   ]
  },
  {
   "cell_type": "code",
   "execution_count": 62,
   "metadata": {},
   "outputs": [],
   "source": [
    "from pathlib import Path\n",
    "import os\n",
    "import pandas as pd\n",
    "import numpy as np\n",
    "\n",
    "from sklearn.model_selection import train_test_split\n",
    "\n",
    "from sklearn.metrics import r2_score, mean_squared_error\n",
    "from sklearn.linear_model import LinearRegression, RidgeCV, LassoCV, ElasticNetCV\n",
    "\n",
    "import statsmodels.api as sm\n",
    "\n",
    "import seaborn as sns\n",
    "import matplotlib.pyplot as plt\n",
    "\n",
    "from dmba import stepwise_selection\n",
    "from dmba import AIC_score\n",
    "\n",
    "%matplotlib inline"
   ]
  },
  {
   "cell_type": "markdown",
   "metadata": {},
   "source": [
    "Define paths to data sets. If you don't keep your data in the same directory as the code, adapt the path names."
   ]
  },
  {
   "cell_type": "code",
   "execution_count": 63,
   "metadata": {},
   "outputs": [],
   "source": [
    "DATA = Path('.').resolve().parents[1] /'Practice\\mlr'\n",
    "\n",
    "HOUSE_CSV =DATA/ 'house_sales.csv'"
   ]
  },
  {
   "cell_type": "code",
   "execution_count": 64,
   "metadata": {},
   "outputs": [
    {
     "name": "stdout",
     "output_type": "stream",
     "text": [
      "/Users/siyuandong/Documents/Data Scientist Bootcamp/DataScienceProgram/Class2/Practice\\mlr\n",
      "/Users/siyuandong/Documents/Data Scientist Bootcamp/DataScienceProgram/Class2/Practice\\mlr/house_sales.csv\n"
     ]
    }
   ],
   "source": [
    "print(DATA)\n",
    "print(HOUSE_CSV)"
   ]
  },
  {
   "cell_type": "markdown",
   "metadata": {},
   "source": [
    "#### Data read and train-test split"
   ]
  },
  {
   "cell_type": "code",
   "execution_count": 65,
   "metadata": {},
   "outputs": [
    {
     "name": "stdout",
     "output_type": "stream",
     "text": [
      "      DocumentDate  SalePrice  PropertyID   PropertyType          ym  zhvi_px  \\\n",
      "5947    2009-10-13     425000  1954410300  Single Family  2009-10-01   351200   \n",
      "10404   2006-07-14     434700  3275910040  Single Family  2006-07-01   407700   \n",
      "3544    2012-07-13     224750  1310970500  Single Family  2012-07-01   325300   \n",
      "26163   2007-06-15     493000  9485930400  Single Family  2007-06-01   433200   \n",
      "13934   2009-06-25     720000  4077800070  Single Family  2009-06-01   357100   \n",
      "\n",
      "       zhvi_idx  AdjSalePrice  NbrLivingUnits  SqFtLot  ...  Bathrooms  \\\n",
      "5947   0.806985      526651.0               1     7477  ...       2.25   \n",
      "10404  0.936811      464021.0               1     5970  ...       2.50   \n",
      "3544   0.747472      300680.0               1     7210  ...       2.25   \n",
      "26163  0.995404      495276.0               1    37376  ...       2.75   \n",
      "13934  0.820542      877468.0               1     5514  ...       2.75   \n",
      "\n",
      "       Bedrooms  BldgGrade  YrBuilt  YrRenovated  TrafficNoise  LandVal  \\\n",
      "5947          3          8     1988            0             0   255000   \n",
      "10404         4          8     2006            0             0   104000   \n",
      "3544          4          8     1978            0             0    95000   \n",
      "26163         4          8     1980            0             0   135000   \n",
      "13934         4          7     1971            0             0   359000   \n",
      "\n",
      "       ImpsVal  ZipCode  NewConstruction  \n",
      "5947    220000    98074            False  \n",
      "10404   254000    98001             True  \n",
      "3544    169000    98032            False  \n",
      "26163   216000    98042            False  \n",
      "13934   398000    98125            False  \n",
      "\n",
      "[5 rows x 22 columns]\n",
      "(18149, 22)\n",
      "      DocumentDate  SalePrice  PropertyID   PropertyType          ym  zhvi_px  \\\n",
      "496     2010-04-22     529900   205000240  Single Family  2010-04-01   349100   \n",
      "16861   2008-02-05     412000  5706201470  Single Family  2008-02-01   418400   \n",
      "20678   2013-02-04     725693  7583700070  Single Family  2013-02-01   347000   \n",
      "1063    2007-05-30     312500   414100295  Single Family  2007-05-01   432100   \n",
      "18130   2006-09-27     839950  6645960080  Single Family  2006-09-01   414800   \n",
      "\n",
      "       zhvi_idx  AdjSalePrice  NbrLivingUnits  SqFtLot  ...  Bathrooms  \\\n",
      "496    0.802160      660591.0               1    33881  ...        2.5   \n",
      "16861  0.961397      428543.0               1    12350  ...        2.5   \n",
      "20678  0.797335      910149.0               1    12669  ...        4.0   \n",
      "1063   0.992877      314742.0               1     6552  ...        1.0   \n",
      "18130  0.953125      881259.0               1     6070  ...        2.5   \n",
      "\n",
      "       Bedrooms  BldgGrade  YrBuilt  YrRenovated  TrafficNoise  LandVal  \\\n",
      "496           3          9     1994            0             0   256000   \n",
      "16861         3          7     1961            0             0   191000   \n",
      "20678         5         11     2013            0             1   769000   \n",
      "1063          2          6     1949            0             0   160000   \n",
      "18130         4          9     2006            0             0   300000   \n",
      "\n",
      "       ImpsVal  ZipCode  NewConstruction  \n",
      "496     329000    98053            False  \n",
      "16861   260000    98027            False  \n",
      "20678  2173000    98004            False  \n",
      "1063    129000    98133            False  \n",
      "18130   463000    98059            False  \n",
      "\n",
      "[5 rows x 22 columns]\n",
      "(4538, 22)\n"
     ]
    }
   ],
   "source": [
    "houseall = pd.read_csv('house_sales.csv', sep='\\t')\n",
    "\n",
    "house, house_test = train_test_split(houseall, test_size=0.2)\n",
    "\n",
    "print(house.head())\n",
    "print(house.shape)\n",
    "\n",
    "print(house_test.head())\n",
    "print(house_test.shape)"
   ]
  },
  {
   "cell_type": "markdown",
   "metadata": {},
   "source": [
    "We can use the `LinearRegression` model from _scikit-learn_."
   ]
  },
  {
   "cell_type": "markdown",
   "metadata": {},
   "source": [
    "## 1 - Multiple Linear Regression (SKlearn)"
   ]
  },
  {
   "cell_type": "code",
   "execution_count": 66,
   "metadata": {},
   "outputs": [
    {
     "name": "stdout",
     "output_type": "stream",
     "text": [
      "       AdjSalePrice  SqFtTotLiving  SqFtLot  Bathrooms  Bedrooms  BldgGrade\n",
      "5947       526651.0           1680     7477       2.25         3          8\n",
      "10404      464021.0           2181     5970       2.50         4          8\n",
      "3544       300680.0           2110     7210       2.25         4          8\n",
      "26163      495276.0           2390    37376       2.75         4          8\n",
      "13934      877468.0           2580     5514       2.75         4          7\n"
     ]
    }
   ],
   "source": [
    "subset = ['AdjSalePrice', 'SqFtTotLiving', 'SqFtLot', 'Bathrooms', \n",
    "          'Bedrooms', 'BldgGrade']\n",
    "\n",
    "print(house[subset].head())"
   ]
  },
  {
   "cell_type": "code",
   "execution_count": 67,
   "metadata": {
    "scrolled": true
   },
   "outputs": [
    {
     "name": "stdout",
     "output_type": "stream",
     "text": [
      "      DocumentDate  SalePrice  PropertyID   PropertyType          ym  zhvi_px  \\\n",
      "5947    2009-10-13     425000  1954410300  Single Family  2009-10-01   351200   \n",
      "10404   2006-07-14     434700  3275910040  Single Family  2006-07-01   407700   \n",
      "3544    2012-07-13     224750  1310970500  Single Family  2012-07-01   325300   \n",
      "26163   2007-06-15     493000  9485930400  Single Family  2007-06-01   433200   \n",
      "13934   2009-06-25     720000  4077800070  Single Family  2009-06-01   357100   \n",
      "\n",
      "       zhvi_idx  AdjSalePrice  NbrLivingUnits  SqFtLot  ...  Bathrooms  \\\n",
      "5947   0.806985      526651.0               1     7477  ...       2.25   \n",
      "10404  0.936811      464021.0               1     5970  ...       2.50   \n",
      "3544   0.747472      300680.0               1     7210  ...       2.25   \n",
      "26163  0.995404      495276.0               1    37376  ...       2.75   \n",
      "13934  0.820542      877468.0               1     5514  ...       2.75   \n",
      "\n",
      "       Bedrooms  BldgGrade  YrBuilt  YrRenovated  TrafficNoise  LandVal  \\\n",
      "5947          3          8     1988            0             0   255000   \n",
      "10404         4          8     2006            0             0   104000   \n",
      "3544          4          8     1978            0             0    95000   \n",
      "26163         4          8     1980            0             0   135000   \n",
      "13934         4          7     1971            0             0   359000   \n",
      "\n",
      "       ImpsVal  ZipCode  NewConstruction  \n",
      "5947    220000    98074            False  \n",
      "10404   254000    98001             True  \n",
      "3544    169000    98032            False  \n",
      "26163   216000    98042            False  \n",
      "13934   398000    98125            False  \n",
      "\n",
      "[5 rows x 22 columns]\n",
      "Index(['DocumentDate', 'SalePrice', 'PropertyID', 'PropertyType', 'ym',\n",
      "       'zhvi_px', 'zhvi_idx', 'AdjSalePrice', 'NbrLivingUnits', 'SqFtLot',\n",
      "       'SqFtTotLiving', 'SqFtFinBasement', 'Bathrooms', 'Bedrooms',\n",
      "       'BldgGrade', 'YrBuilt', 'YrRenovated', 'TrafficNoise', 'LandVal',\n",
      "       'ImpsVal', 'ZipCode', 'NewConstruction'],\n",
      "      dtype='object')\n"
     ]
    }
   ],
   "source": [
    "print(house.head())\n",
    "print(house.columns)"
   ]
  },
  {
   "cell_type": "code",
   "execution_count": 68,
   "metadata": {},
   "outputs": [
    {
     "name": "stdout",
     "output_type": "stream",
     "text": [
      "Intercept: -507334.151\n",
      "Coefficients:\n",
      " SqFtTotLiving: 232.996100698631\n",
      " SqFtLot: -0.044389288042733684\n",
      " Bathrooms: -24707.405335627933\n",
      " Bedrooms: -47799.18373016938\n",
      " BldgGrade: 104525.5626669214\n"
     ]
    }
   ],
   "source": [
    "predictors = ['SqFtTotLiving', 'SqFtLot', 'Bathrooms', \n",
    "              'Bedrooms', 'BldgGrade']\n",
    "outcome = 'AdjSalePrice'\n",
    "\n",
    "house_lm = LinearRegression()\n",
    "house_lm.fit(house[predictors], house[outcome])\n",
    "\n",
    "print(f'Intercept: {house_lm.intercept_:.3f}')\n",
    "print('Coefficients:')\n",
    "for name, coef in zip(predictors, house_lm.coef_):\n",
    "    print(f' {name}: {coef}')"
   ]
  },
  {
   "cell_type": "markdown",
   "metadata": {},
   "source": [
    "### Assessing the Model with performance KPIs\n",
    "_Scikit-learn_ provides a number of metrics to determine the quality of a model. Here we use the `r2_score` and `RMSE`."
   ]
  },
  {
   "cell_type": "code",
   "execution_count": 69,
   "metadata": {},
   "outputs": [
    {
     "name": "stdout",
     "output_type": "stream",
     "text": [
      "RMSE: 257650\n",
      "r2: 0.5442\n",
      "RMSE_test: 275128\n",
      "r2_test: 0.5272\n"
     ]
    }
   ],
   "source": [
    "fitted = house_lm.predict(house[predictors])\n",
    "#RSME -- Root Mean Square Error, a measure of how spread out these residuals are\n",
    "RMSE = np.sqrt(mean_squared_error(house[outcome], fitted))\n",
    "r2 = r2_score(house[outcome], fitted)\n",
    "print(f'RMSE: {RMSE:.0f}')\n",
    "print(f'r2: {r2:.4f}')\n",
    "\n",
    "fitted_test = house_lm.predict(house_test[predictors])\n",
    "RMSE_test = np.sqrt(mean_squared_error(house_test[outcome], fitted_test))\n",
    "r2_test= r2_score(house_test[outcome], fitted_test)\n",
    "print(f'RMSE_test: {RMSE_test:.0f}')\n",
    "print(f'r2_test: {r2_test:.4f}')"
   ]
  },
  {
   "cell_type": "markdown",
   "metadata": {},
   "source": [
    "## 1 - Multiple Linear Regression (statsmodels)"
   ]
  },
  {
   "cell_type": "markdown",
   "metadata": {},
   "source": [
    "While _scikit-learn_ provides a variety of different metrics, _statsmodels_ provides a more in-depth analysis of the linear regression model. This package has two different ways of specifying the model, one that is similar to _scikit-learn_ and one that allows specifying _R_-style formulas. Here we use the first approach. As _statsmodels_ doesn't add an intercept automaticaly, we need to add a constant column with value 1 to the predictors. We can use the _pandas_ method assign for this."
   ]
  },
  {
   "cell_type": "code",
   "execution_count": 70,
   "metadata": {},
   "outputs": [
    {
     "name": "stdout",
     "output_type": "stream",
     "text": [
      "                            OLS Regression Results                            \n",
      "==============================================================================\n",
      "Dep. Variable:           AdjSalePrice   R-squared:                       0.544\n",
      "Model:                            OLS   Adj. R-squared:                  0.544\n",
      "Method:                 Least Squares   F-statistic:                     4332.\n",
      "Date:                Thu, 18 Jun 2020   Prob (F-statistic):               0.00\n",
      "Time:                        18:11:41   Log-Likelihood:            -2.5188e+05\n",
      "No. Observations:               18149   AIC:                         5.038e+05\n",
      "Df Residuals:                   18143   BIC:                         5.038e+05\n",
      "Df Model:                           5                                         \n",
      "Covariance Type:            nonrobust                                         \n",
      "=================================================================================\n",
      "                    coef    std err          t      P>|t|      [0.025      0.975]\n",
      "---------------------------------------------------------------------------------\n",
      "SqFtTotLiving   232.9961      4.310     54.065      0.000     224.549     241.443\n",
      "SqFtLot          -0.0444      0.065     -0.680      0.496      -0.172       0.084\n",
      "Bathrooms     -2.471e+04   4004.012     -6.171      0.000   -3.26e+04   -1.69e+04\n",
      "Bedrooms       -4.78e+04   2714.536    -17.609      0.000   -5.31e+04   -4.25e+04\n",
      "BldgGrade      1.045e+05   2639.579     39.599      0.000    9.94e+04     1.1e+05\n",
      "const         -5.073e+05   1.72e+04    -29.489      0.000   -5.41e+05   -4.74e+05\n",
      "==============================================================================\n",
      "Omnibus:                    24149.878   Durbin-Watson:                   2.029\n",
      "Prob(Omnibus):                  0.000   Jarque-Bera (JB):         19064931.631\n",
      "Skew:                           7.049   Prob(JB):                         0.00\n",
      "Kurtosis:                     161.153   Cond. No.                     2.93e+05\n",
      "==============================================================================\n",
      "\n",
      "Warnings:\n",
      "[1] Standard Errors assume that the covariance matrix of the errors is correctly specified.\n",
      "[2] The condition number is large, 2.93e+05. This might indicate that there are\n",
      "strong multicollinearity or other numerical problems.\n"
     ]
    }
   ],
   "source": [
    "mlr_sm = sm.OLS(house[outcome], house[predictors].assign(const=1))\n",
    "results = mlr_sm.fit()\n",
    "print(results.summary())"
   ]
  },
  {
   "cell_type": "markdown",
   "metadata": {},
   "source": [
    "### Correlations between predictors"
   ]
  },
  {
   "cell_type": "code",
   "execution_count": 71,
   "metadata": {},
   "outputs": [
    {
     "name": "stdout",
     "output_type": "stream",
     "text": [
      "Correlation Matrix \n",
      "                SqFtTotLiving   SqFtLot  Bathrooms  Bedrooms  BldgGrade\n",
      "SqFtTotLiving       1.000000  0.190833   0.764937  0.598633   0.769829\n",
      "SqFtLot             0.190833  1.000000   0.107376  0.067608   0.140363\n",
      "Bathrooms           0.764937  0.107376   1.000000  0.536263   0.657127\n",
      "Bedrooms            0.598633  0.067608   0.536263  1.000000   0.367166\n",
      "BldgGrade           0.769829  0.140363   0.657127  0.367166   1.000000\n"
     ]
    },
    {
     "data": {
      "image/png": "[encoded data removed]",
      "text/plain": [
       "<Figure size 432x288 with 2 Axes>"
      ]
     },
     "metadata": {
      "needs_background": "light"
     },
     "output_type": "display_data"
    }
   ],
   "source": [
    "corr = house[predictors].corr()\n",
    "print(\"Correlation Matrix \\n {}\".format(corr))\n",
    "\n",
    "ax = sns.heatmap(\n",
    "    corr, \n",
    "    vmin=-1, vmax=1, center=0,\n",
    "    cmap=sns.diverging_palette(20, 220, n=200),\n",
    "    square=True\n",
    ")\n",
    "ax.set_xticklabels(\n",
    "    ax.get_xticklabels(),\n",
    "    rotation=45,\n",
    "    horizontalalignment='right'\n",
    ");"
   ]
  },
  {
   "cell_type": "markdown",
   "metadata": {},
   "source": [
    "## 2 - Model Selection and Stepwise Regression"
   ]
  },
  {
   "cell_type": "code",
   "execution_count": 72,
   "metadata": {},
   "outputs": [
    {
     "name": "stdout",
     "output_type": "stream",
     "text": [
      "       SqFtTotLiving  SqFtLot  Bathrooms  Bedrooms  BldgGrade   PropertyType  \\\n",
      "5947            1680     7477       2.25         3          8  Single Family   \n",
      "10404           2181     5970       2.50         4          8  Single Family   \n",
      "3544            2110     7210       2.25         4          8  Single Family   \n",
      "26163           2390    37376       2.75         4          8  Single Family   \n",
      "13934           2580     5514       2.75         4          7  Single Family   \n",
      "\n",
      "       NbrLivingUnits  SqFtFinBasement  YrBuilt  YrRenovated  NewConstruction  \n",
      "5947                1                0     1988            0            False  \n",
      "10404               1                0     2006            0             True  \n",
      "3544                1                0     1978            0            False  \n",
      "26163               1              900     1980            0            False  \n",
      "13934               1              770     1971            0            False  \n",
      "\n",
      " PropertyType List \n",
      "Single Family    16593\n",
      "Townhouse         1353\n",
      "Multiplex          203\n",
      "Name: PropertyType, dtype: int64\n",
      "\n",
      "Predictors after nominal varibale(s) treatment: (18149, 12) \n",
      "\n",
      "\n",
      "                            OLS Regression Results                            \n",
      "==============================================================================\n",
      "Dep. Variable:           AdjSalePrice   R-squared:                       0.597\n",
      "Model:                            OLS   Adj. R-squared:                  0.597\n",
      "Method:                 Least Squares   F-statistic:                     2239.\n",
      "Date:                Thu, 18 Jun 2020   Prob (F-statistic):               0.00\n",
      "Time:                        18:11:48   Log-Likelihood:            -2.5076e+05\n",
      "No. Observations:               18149   AIC:                         5.015e+05\n",
      "Df Residuals:                   18136   BIC:                         5.016e+05\n",
      "Df Model:                          12                                         \n",
      "Covariance Type:            nonrobust                                         \n",
      "==============================================================================================\n",
      "                                 coef    std err          t      P>|t|      [0.025      0.975]\n",
      "----------------------------------------------------------------------------------------------\n",
      "SqFtTotLiving                205.3441      4.691     43.770      0.000     196.148     214.540\n",
      "SqFtLot                        0.0813      0.062      1.314      0.189      -0.040       0.203\n",
      "Bathrooms                   3.593e+04   4209.473      8.536      0.000    2.77e+04    4.42e+04\n",
      "Bedrooms                   -5.147e+04   2612.077    -19.706      0.000   -5.66e+04   -4.64e+04\n",
      "BldgGrade                   1.343e+05   2690.190     49.909      0.000    1.29e+05     1.4e+05\n",
      "NbrLivingUnits              1.744e+04   1.99e+04      0.876      0.381   -2.16e+04    5.64e+04\n",
      "SqFtFinBasement                5.9209      5.109      1.159      0.246      -4.092      15.934\n",
      "YrBuilt                    -3510.3716     85.264    -41.171      0.000   -3677.496   -3343.247\n",
      "YrRenovated                   -4.8359      4.345     -1.113      0.266     -13.352       3.680\n",
      "NewConstruction            -5967.0798   6577.306     -0.907      0.364   -1.89e+04    6925.064\n",
      "PropertyType_Single Family  4.047e+04   2.92e+04      1.387      0.166   -1.67e+04    9.77e+04\n",
      "PropertyType_Townhouse      1.076e+05   3.02e+04      3.560      0.000    4.84e+04    1.67e+05\n",
      "const                       6.057e+06   1.71e+05     35.449      0.000    5.72e+06    6.39e+06\n",
      "==============================================================================\n",
      "Omnibus:                    25360.511   Durbin-Watson:                   2.025\n",
      "Prob(Omnibus):                  0.000   Jarque-Bera (JB):         26169096.907\n",
      "Skew:                           7.687   Prob(JB):                         0.00\n",
      "Kurtosis:                     188.390   Cond. No.                     3.07e+06\n",
      "==============================================================================\n",
      "\n",
      "Warnings:\n",
      "[1] Standard Errors assume that the covariance matrix of the errors is correctly specified.\n",
      "[2] The condition number is large, 3.07e+06. This might indicate that there are\n",
      "strong multicollinearity or other numerical problems.\n"
     ]
    }
   ],
   "source": [
    "predictors = ['SqFtTotLiving', 'SqFtLot', 'Bathrooms', 'Bedrooms',\n",
    "              'BldgGrade', 'PropertyType', 'NbrLivingUnits',\n",
    "              'SqFtFinBasement', 'YrBuilt', 'YrRenovated', \n",
    "              'NewConstruction']\n",
    "\n",
    "print(house[predictors].head())\n",
    "\n",
    "print(\"\\n PropertyType List \\n{}\".format(house['PropertyType'].value_counts(dropna=False)))\n",
    "\n",
    "X = pd.get_dummies(house[predictors], drop_first=True)\n",
    "X['NewConstruction'] = [1 if nc else 0 for nc in X['NewConstruction']]\n",
    "\n",
    "print(\"\\nPredictors after nominal varibale(s) treatment: {} \\n\\n\".format(X.shape))\n",
    "\n",
    "house_full = sm.OLS(house[outcome], X.assign(const=1))\n",
    "results = house_full.fit()\n",
    "print(results.summary())"
   ]
  },
  {
   "cell_type": "markdown",
   "metadata": {},
   "source": [
    "We can use the `stepwise_selection` method from the _dmba_ package."
   ]
  },
  {
   "cell_type": "code",
   "execution_count": 73,
   "metadata": {
    "scrolled": true
   },
   "outputs": [
    {
     "name": "stdout",
     "output_type": "stream",
     "text": [
      "Variables: SqFtTotLiving, SqFtLot, Bathrooms, Bedrooms, BldgGrade, NbrLivingUnits, SqFtFinBasement, YrBuilt, YrRenovated, NewConstruction, PropertyType_Single Family, PropertyType_Townhouse\n",
      "Start: score=518016.85, constant\n",
      "Step: score=505914.80, add SqFtTotLiving\n",
      "Step: score=504160.89, add BldgGrade\n",
      "Step: score=502103.26, add YrBuilt\n",
      "Step: score=501723.57, add Bedrooms\n",
      "Step: score=501612.19, add Bathrooms\n",
      "Step: score=501543.93, add PropertyType_Townhouse\n",
      "Step: score=501543.93, unchanged None\n",
      "\n",
      "Intercept: 6148513.652\n",
      "Coefficients:\n",
      " SqFtTotLiving: 208.0306730263227\n",
      " BldgGrade: 133579.06601597992\n",
      " YrBuilt: -3525.977423841972\n",
      " Bedrooms: -51554.65345197103\n",
      " Bathrooms: 35185.35393529054\n",
      " PropertyType_Townhouse: 66321.8201243456\n"
     ]
    }
   ],
   "source": [
    "y = house[outcome]\n",
    "\n",
    "def train_model(variables):\n",
    "    if len(variables) == 0:\n",
    "        return None\n",
    "    model = LinearRegression()\n",
    "    model.fit(X[variables], y)\n",
    "    return model\n",
    "\n",
    "def score_model(model, variables):\n",
    "    if len(variables) == 0:\n",
    "        return AIC_score(y, [y.mean()] * len(y), model, df=1)\n",
    "    return AIC_score(y, model.predict(X[variables]), model)\n",
    "\n",
    "best_model, best_variables = stepwise_selection(X.columns, train_model, score_model, \n",
    "                                                verbose=True)\n",
    "\n",
    "print() #空行而已\n",
    "print(f'Intercept: {best_model.intercept_:.3f}')\n",
    "print('Coefficients:')\n",
    "for name, coef in zip(best_variables, best_model.coef_):\n",
    "    print(f' {name}: {coef}')"
   ]
  },
  {
   "cell_type": "markdown",
   "metadata": {},
   "source": [
    "## 3 - Weighted regression\n",
    "For the house data recent sale price is more relavent for future prediction, old sale data is less reliable, therefore, we like to emphasis the recent sale data by apply more weight. We will use year the house sale to 2005 as weight.\n",
    "\n",
    "We can calculate the Year from the date column using either a list comprehension or the data frame's `apply` method."
   ]
  },
  {
   "cell_type": "code",
   "execution_count": 74,
   "metadata": {},
   "outputs": [
    {
     "name": "stdout",
     "output_type": "stream",
     "text": [
      "\n",
      "DocumentDate List \n",
      "2006-04-25    50\n",
      "2006-07-26    48\n",
      "2006-08-24    46\n",
      "2006-05-22    45\n",
      "2006-06-28    45\n",
      "2006-07-18    44\n",
      "2006-06-19    43\n",
      "2006-06-08    43\n",
      "2006-06-21    42\n",
      "2006-07-24    42\n",
      "2006-06-13    40\n",
      "2006-08-21    39\n",
      "2006-05-23    39\n",
      "2006-04-26    39\n",
      "2006-08-29    39\n",
      "2006-05-01    39\n",
      "2006-04-05    39\n",
      "2006-05-25    38\n",
      "2006-05-30    38\n",
      "2006-02-22    38\n",
      "2006-08-25    38\n",
      "2006-06-01    38\n",
      "2006-03-01    38\n",
      "2006-06-15    37\n",
      "2006-02-21    37\n",
      "2006-07-11    37\n",
      "2006-06-14    37\n",
      "2006-03-20    37\n",
      "2006-08-23    36\n",
      "2006-06-12    36\n",
      "              ..\n",
      "2012-09-04     1\n",
      "2014-12-10     1\n",
      "2009-03-08     1\n",
      "2006-09-16     1\n",
      "2014-06-25     1\n",
      "2015-04-01     1\n",
      "2010-11-20     1\n",
      "2012-08-24     1\n",
      "2012-12-10     1\n",
      "2014-02-26     1\n",
      "2009-07-03     1\n",
      "2013-03-06     1\n",
      "2015-01-08     1\n",
      "2011-01-10     1\n",
      "2015-01-02     1\n",
      "2013-11-12     1\n",
      "2010-04-25     1\n",
      "2013-11-15     1\n",
      "2015-01-16     1\n",
      "2006-11-19     1\n",
      "2012-03-05     1\n",
      "2013-12-20     1\n",
      "2012-10-24     1\n",
      "2015-03-29     1\n",
      "2013-01-18     1\n",
      "2006-12-16     1\n",
      "2013-12-24     1\n",
      "2011-04-03     1\n",
      "2013-01-30     1\n",
      "2012-08-25     1\n",
      "Name: DocumentDate, Length: 2460, dtype: int64\n"
     ]
    }
   ],
   "source": [
    "print(\"\\nDocumentDate List \\n{}\".format(house['DocumentDate'].value_counts(dropna=False)))"
   ]
  },
  {
   "cell_type": "code",
   "execution_count": 75,
   "metadata": {},
   "outputs": [
    {
     "data": {
      "text/html": [
       "<div>\n",
       "<style scoped>\n",
       "    .dataframe tbody tr th:only-of-type {\n",
       "        vertical-align: middle;\n",
       "    }\n",
       "\n",
       "    .dataframe tbody tr th {\n",
       "        vertical-align: top;\n",
       "    }\n",
       "\n",
       "    .dataframe thead th {\n",
       "        text-align: right;\n",
       "    }\n",
       "</style>\n",
       "<table border=\"1\" class=\"dataframe\">\n",
       "  <thead>\n",
       "    <tr style=\"text-align: right;\">\n",
       "      <th></th>\n",
       "      <th>DocumentDate</th>\n",
       "      <th>SalePrice</th>\n",
       "      <th>PropertyID</th>\n",
       "      <th>PropertyType</th>\n",
       "      <th>ym</th>\n",
       "      <th>zhvi_px</th>\n",
       "      <th>zhvi_idx</th>\n",
       "      <th>AdjSalePrice</th>\n",
       "      <th>NbrLivingUnits</th>\n",
       "      <th>SqFtLot</th>\n",
       "      <th>...</th>\n",
       "      <th>Bathrooms</th>\n",
       "      <th>Bedrooms</th>\n",
       "      <th>BldgGrade</th>\n",
       "      <th>YrBuilt</th>\n",
       "      <th>YrRenovated</th>\n",
       "      <th>TrafficNoise</th>\n",
       "      <th>LandVal</th>\n",
       "      <th>ImpsVal</th>\n",
       "      <th>ZipCode</th>\n",
       "      <th>NewConstruction</th>\n",
       "    </tr>\n",
       "  </thead>\n",
       "  <tbody>\n",
       "    <tr>\n",
       "      <th>5947</th>\n",
       "      <td>2009-10-13</td>\n",
       "      <td>425000</td>\n",
       "      <td>1954410300</td>\n",
       "      <td>Single Family</td>\n",
       "      <td>2009-10-01</td>\n",
       "      <td>351200</td>\n",
       "      <td>0.806985</td>\n",
       "      <td>526651.0</td>\n",
       "      <td>1</td>\n",
       "      <td>7477</td>\n",
       "      <td>...</td>\n",
       "      <td>2.25</td>\n",
       "      <td>3</td>\n",
       "      <td>8</td>\n",
       "      <td>1988</td>\n",
       "      <td>0</td>\n",
       "      <td>0</td>\n",
       "      <td>255000</td>\n",
       "      <td>220000</td>\n",
       "      <td>98074</td>\n",
       "      <td>False</td>\n",
       "    </tr>\n",
       "    <tr>\n",
       "      <th>10404</th>\n",
       "      <td>2006-07-14</td>\n",
       "      <td>434700</td>\n",
       "      <td>3275910040</td>\n",
       "      <td>Single Family</td>\n",
       "      <td>2006-07-01</td>\n",
       "      <td>407700</td>\n",
       "      <td>0.936811</td>\n",
       "      <td>464021.0</td>\n",
       "      <td>1</td>\n",
       "      <td>5970</td>\n",
       "      <td>...</td>\n",
       "      <td>2.50</td>\n",
       "      <td>4</td>\n",
       "      <td>8</td>\n",
       "      <td>2006</td>\n",
       "      <td>0</td>\n",
       "      <td>0</td>\n",
       "      <td>104000</td>\n",
       "      <td>254000</td>\n",
       "      <td>98001</td>\n",
       "      <td>True</td>\n",
       "    </tr>\n",
       "    <tr>\n",
       "      <th>3544</th>\n",
       "      <td>2012-07-13</td>\n",
       "      <td>224750</td>\n",
       "      <td>1310970500</td>\n",
       "      <td>Single Family</td>\n",
       "      <td>2012-07-01</td>\n",
       "      <td>325300</td>\n",
       "      <td>0.747472</td>\n",
       "      <td>300680.0</td>\n",
       "      <td>1</td>\n",
       "      <td>7210</td>\n",
       "      <td>...</td>\n",
       "      <td>2.25</td>\n",
       "      <td>4</td>\n",
       "      <td>8</td>\n",
       "      <td>1978</td>\n",
       "      <td>0</td>\n",
       "      <td>0</td>\n",
       "      <td>95000</td>\n",
       "      <td>169000</td>\n",
       "      <td>98032</td>\n",
       "      <td>False</td>\n",
       "    </tr>\n",
       "    <tr>\n",
       "      <th>26163</th>\n",
       "      <td>2007-06-15</td>\n",
       "      <td>493000</td>\n",
       "      <td>9485930400</td>\n",
       "      <td>Single Family</td>\n",
       "      <td>2007-06-01</td>\n",
       "      <td>433200</td>\n",
       "      <td>0.995404</td>\n",
       "      <td>495276.0</td>\n",
       "      <td>1</td>\n",
       "      <td>37376</td>\n",
       "      <td>...</td>\n",
       "      <td>2.75</td>\n",
       "      <td>4</td>\n",
       "      <td>8</td>\n",
       "      <td>1980</td>\n",
       "      <td>0</td>\n",
       "      <td>0</td>\n",
       "      <td>135000</td>\n",
       "      <td>216000</td>\n",
       "      <td>98042</td>\n",
       "      <td>False</td>\n",
       "    </tr>\n",
       "    <tr>\n",
       "      <th>13934</th>\n",
       "      <td>2009-06-25</td>\n",
       "      <td>720000</td>\n",
       "      <td>4077800070</td>\n",
       "      <td>Single Family</td>\n",
       "      <td>2009-06-01</td>\n",
       "      <td>357100</td>\n",
       "      <td>0.820542</td>\n",
       "      <td>877468.0</td>\n",
       "      <td>1</td>\n",
       "      <td>5514</td>\n",
       "      <td>...</td>\n",
       "      <td>2.75</td>\n",
       "      <td>4</td>\n",
       "      <td>7</td>\n",
       "      <td>1971</td>\n",
       "      <td>0</td>\n",
       "      <td>0</td>\n",
       "      <td>359000</td>\n",
       "      <td>398000</td>\n",
       "      <td>98125</td>\n",
       "      <td>False</td>\n",
       "    </tr>\n",
       "  </tbody>\n",
       "</table>\n",
       "<p>5 rows × 22 columns</p>\n",
       "</div>"
      ],
      "text/plain": [
       "      DocumentDate  SalePrice  PropertyID   PropertyType          ym  zhvi_px  \\\n",
       "5947    2009-10-13     425000  1954410300  Single Family  2009-10-01   351200   \n",
       "10404   2006-07-14     434700  3275910040  Single Family  2006-07-01   407700   \n",
       "3544    2012-07-13     224750  1310970500  Single Family  2012-07-01   325300   \n",
       "26163   2007-06-15     493000  9485930400  Single Family  2007-06-01   433200   \n",
       "13934   2009-06-25     720000  4077800070  Single Family  2009-06-01   357100   \n",
       "\n",
       "       zhvi_idx  AdjSalePrice  NbrLivingUnits  SqFtLot  ...  Bathrooms  \\\n",
       "5947   0.806985      526651.0               1     7477  ...       2.25   \n",
       "10404  0.936811      464021.0               1     5970  ...       2.50   \n",
       "3544   0.747472      300680.0               1     7210  ...       2.25   \n",
       "26163  0.995404      495276.0               1    37376  ...       2.75   \n",
       "13934  0.820542      877468.0               1     5514  ...       2.75   \n",
       "\n",
       "       Bedrooms  BldgGrade  YrBuilt  YrRenovated  TrafficNoise  LandVal  \\\n",
       "5947          3          8     1988            0             0   255000   \n",
       "10404         4          8     2006            0             0   104000   \n",
       "3544          4          8     1978            0             0    95000   \n",
       "26163         4          8     1980            0             0   135000   \n",
       "13934         4          7     1971            0             0   359000   \n",
       "\n",
       "       ImpsVal  ZipCode  NewConstruction  \n",
       "5947    220000    98074            False  \n",
       "10404   254000    98001             True  \n",
       "3544    169000    98032            False  \n",
       "26163   216000    98042            False  \n",
       "13934   398000    98125            False  \n",
       "\n",
       "[5 rows x 22 columns]"
      ]
     },
     "execution_count": 75,
     "metadata": {},
     "output_type": "execute_result"
    }
   ],
   "source": [
    "house.head()"
   ]
  },
  {
   "cell_type": "code",
   "execution_count": 76,
   "metadata": {
    "scrolled": true
   },
   "outputs": [
    {
     "name": "stderr",
     "output_type": "stream",
     "text": [
      "/Users/siyuandong/anaconda3/lib/python3.7/site-packages/ipykernel_launcher.py:1: SettingWithCopyWarning: \n",
      "A value is trying to be set on a copy of a slice from a DataFrame.\n",
      "Try using .loc[row_indexer,col_indexer] = value instead\n",
      "\n",
      "See the caveats in the documentation: http://pandas.pydata.org/pandas-docs/stable/indexing.html#indexing-view-versus-copy\n",
      "  \"\"\"Entry point for launching an IPython kernel.\n",
      "/Users/siyuandong/anaconda3/lib/python3.7/site-packages/ipykernel_launcher.py:2: SettingWithCopyWarning: \n",
      "A value is trying to be set on a copy of a slice from a DataFrame.\n",
      "Try using .loc[row_indexer,col_indexer] = value instead\n",
      "\n",
      "See the caveats in the documentation: http://pandas.pydata.org/pandas-docs/stable/indexing.html#indexing-view-versus-copy\n",
      "  \n",
      "/Users/siyuandong/anaconda3/lib/python3.7/site-packages/ipykernel_launcher.py:3: SettingWithCopyWarning: \n",
      "A value is trying to be set on a copy of a slice from a DataFrame.\n",
      "Try using .loc[row_indexer,col_indexer] = value instead\n",
      "\n",
      "See the caveats in the documentation: http://pandas.pydata.org/pandas-docs/stable/indexing.html#indexing-view-versus-copy\n",
      "  This is separate from the ipykernel package so we can avoid doing imports until\n"
     ]
    }
   ],
   "source": [
    "house['Year'] = [int(date.split('-')[0]) for date in house.DocumentDate]  #list comprehension\n",
    "house['Year'] = house.DocumentDate.apply(lambda d: int(d.split('-')[0]))  # apply()\n",
    "house['Weight'] = house.Year - 2005 #dynamic weight"
   ]
  },
  {
   "cell_type": "code",
   "execution_count": 77,
   "metadata": {},
   "outputs": [
    {
     "data": {
      "text/html": [
       "<div>\n",
       "<style scoped>\n",
       "    .dataframe tbody tr th:only-of-type {\n",
       "        vertical-align: middle;\n",
       "    }\n",
       "\n",
       "    .dataframe tbody tr th {\n",
       "        vertical-align: top;\n",
       "    }\n",
       "\n",
       "    .dataframe thead th {\n",
       "        text-align: right;\n",
       "    }\n",
       "</style>\n",
       "<table border=\"1\" class=\"dataframe\">\n",
       "  <thead>\n",
       "    <tr style=\"text-align: right;\">\n",
       "      <th></th>\n",
       "      <th>DocumentDate</th>\n",
       "      <th>SalePrice</th>\n",
       "      <th>PropertyID</th>\n",
       "      <th>PropertyType</th>\n",
       "      <th>ym</th>\n",
       "      <th>zhvi_px</th>\n",
       "      <th>zhvi_idx</th>\n",
       "      <th>AdjSalePrice</th>\n",
       "      <th>NbrLivingUnits</th>\n",
       "      <th>SqFtLot</th>\n",
       "      <th>...</th>\n",
       "      <th>BldgGrade</th>\n",
       "      <th>YrBuilt</th>\n",
       "      <th>YrRenovated</th>\n",
       "      <th>TrafficNoise</th>\n",
       "      <th>LandVal</th>\n",
       "      <th>ImpsVal</th>\n",
       "      <th>ZipCode</th>\n",
       "      <th>NewConstruction</th>\n",
       "      <th>Year</th>\n",
       "      <th>Weight</th>\n",
       "    </tr>\n",
       "  </thead>\n",
       "  <tbody>\n",
       "    <tr>\n",
       "      <th>5947</th>\n",
       "      <td>2009-10-13</td>\n",
       "      <td>425000</td>\n",
       "      <td>1954410300</td>\n",
       "      <td>Single Family</td>\n",
       "      <td>2009-10-01</td>\n",
       "      <td>351200</td>\n",
       "      <td>0.806985</td>\n",
       "      <td>526651.0</td>\n",
       "      <td>1</td>\n",
       "      <td>7477</td>\n",
       "      <td>...</td>\n",
       "      <td>8</td>\n",
       "      <td>1988</td>\n",
       "      <td>0</td>\n",
       "      <td>0</td>\n",
       "      <td>255000</td>\n",
       "      <td>220000</td>\n",
       "      <td>98074</td>\n",
       "      <td>False</td>\n",
       "      <td>2009</td>\n",
       "      <td>4</td>\n",
       "    </tr>\n",
       "    <tr>\n",
       "      <th>10404</th>\n",
       "      <td>2006-07-14</td>\n",
       "      <td>434700</td>\n",
       "      <td>3275910040</td>\n",
       "      <td>Single Family</td>\n",
       "      <td>2006-07-01</td>\n",
       "      <td>407700</td>\n",
       "      <td>0.936811</td>\n",
       "      <td>464021.0</td>\n",
       "      <td>1</td>\n",
       "      <td>5970</td>\n",
       "      <td>...</td>\n",
       "      <td>8</td>\n",
       "      <td>2006</td>\n",
       "      <td>0</td>\n",
       "      <td>0</td>\n",
       "      <td>104000</td>\n",
       "      <td>254000</td>\n",
       "      <td>98001</td>\n",
       "      <td>True</td>\n",
       "      <td>2006</td>\n",
       "      <td>1</td>\n",
       "    </tr>\n",
       "    <tr>\n",
       "      <th>3544</th>\n",
       "      <td>2012-07-13</td>\n",
       "      <td>224750</td>\n",
       "      <td>1310970500</td>\n",
       "      <td>Single Family</td>\n",
       "      <td>2012-07-01</td>\n",
       "      <td>325300</td>\n",
       "      <td>0.747472</td>\n",
       "      <td>300680.0</td>\n",
       "      <td>1</td>\n",
       "      <td>7210</td>\n",
       "      <td>...</td>\n",
       "      <td>8</td>\n",
       "      <td>1978</td>\n",
       "      <td>0</td>\n",
       "      <td>0</td>\n",
       "      <td>95000</td>\n",
       "      <td>169000</td>\n",
       "      <td>98032</td>\n",
       "      <td>False</td>\n",
       "      <td>2012</td>\n",
       "      <td>7</td>\n",
       "    </tr>\n",
       "    <tr>\n",
       "      <th>26163</th>\n",
       "      <td>2007-06-15</td>\n",
       "      <td>493000</td>\n",
       "      <td>9485930400</td>\n",
       "      <td>Single Family</td>\n",
       "      <td>2007-06-01</td>\n",
       "      <td>433200</td>\n",
       "      <td>0.995404</td>\n",
       "      <td>495276.0</td>\n",
       "      <td>1</td>\n",
       "      <td>37376</td>\n",
       "      <td>...</td>\n",
       "      <td>8</td>\n",
       "      <td>1980</td>\n",
       "      <td>0</td>\n",
       "      <td>0</td>\n",
       "      <td>135000</td>\n",
       "      <td>216000</td>\n",
       "      <td>98042</td>\n",
       "      <td>False</td>\n",
       "      <td>2007</td>\n",
       "      <td>2</td>\n",
       "    </tr>\n",
       "    <tr>\n",
       "      <th>13934</th>\n",
       "      <td>2009-06-25</td>\n",
       "      <td>720000</td>\n",
       "      <td>4077800070</td>\n",
       "      <td>Single Family</td>\n",
       "      <td>2009-06-01</td>\n",
       "      <td>357100</td>\n",
       "      <td>0.820542</td>\n",
       "      <td>877468.0</td>\n",
       "      <td>1</td>\n",
       "      <td>5514</td>\n",
       "      <td>...</td>\n",
       "      <td>7</td>\n",
       "      <td>1971</td>\n",
       "      <td>0</td>\n",
       "      <td>0</td>\n",
       "      <td>359000</td>\n",
       "      <td>398000</td>\n",
       "      <td>98125</td>\n",
       "      <td>False</td>\n",
       "      <td>2009</td>\n",
       "      <td>4</td>\n",
       "    </tr>\n",
       "  </tbody>\n",
       "</table>\n",
       "<p>5 rows × 24 columns</p>\n",
       "</div>"
      ],
      "text/plain": [
       "      DocumentDate  SalePrice  PropertyID   PropertyType          ym  zhvi_px  \\\n",
       "5947    2009-10-13     425000  1954410300  Single Family  2009-10-01   351200   \n",
       "10404   2006-07-14     434700  3275910040  Single Family  2006-07-01   407700   \n",
       "3544    2012-07-13     224750  1310970500  Single Family  2012-07-01   325300   \n",
       "26163   2007-06-15     493000  9485930400  Single Family  2007-06-01   433200   \n",
       "13934   2009-06-25     720000  4077800070  Single Family  2009-06-01   357100   \n",
       "\n",
       "       zhvi_idx  AdjSalePrice  NbrLivingUnits  SqFtLot  ...  BldgGrade  \\\n",
       "5947   0.806985      526651.0               1     7477  ...          8   \n",
       "10404  0.936811      464021.0               1     5970  ...          8   \n",
       "3544   0.747472      300680.0               1     7210  ...          8   \n",
       "26163  0.995404      495276.0               1    37376  ...          8   \n",
       "13934  0.820542      877468.0               1     5514  ...          7   \n",
       "\n",
       "       YrBuilt  YrRenovated  TrafficNoise  LandVal  ImpsVal  ZipCode  \\\n",
       "5947      1988            0             0   255000   220000    98074   \n",
       "10404     2006            0             0   104000   254000    98001   \n",
       "3544      1978            0             0    95000   169000    98032   \n",
       "26163     1980            0             0   135000   216000    98042   \n",
       "13934     1971            0             0   359000   398000    98125   \n",
       "\n",
       "       NewConstruction  Year  Weight  \n",
       "5947             False  2009       4  \n",
       "10404             True  2006       1  \n",
       "3544             False  2012       7  \n",
       "26163            False  2007       2  \n",
       "13934            False  2009       4  \n",
       "\n",
       "[5 rows x 24 columns]"
      ]
     },
     "execution_count": 77,
     "metadata": {},
     "output_type": "execute_result"
    }
   ],
   "source": [
    "house.head()"
   ]
  },
  {
   "cell_type": "code",
   "execution_count": 78,
   "metadata": {},
   "outputs": [
    {
     "data": {
      "text/html": [
       "<div>\n",
       "<style scoped>\n",
       "    .dataframe tbody tr th:only-of-type {\n",
       "        vertical-align: middle;\n",
       "    }\n",
       "\n",
       "    .dataframe tbody tr th {\n",
       "        vertical-align: top;\n",
       "    }\n",
       "\n",
       "    .dataframe thead th {\n",
       "        text-align: right;\n",
       "    }\n",
       "</style>\n",
       "<table border=\"1\" class=\"dataframe\">\n",
       "  <thead>\n",
       "    <tr style=\"text-align: right;\">\n",
       "      <th></th>\n",
       "      <th>predictor</th>\n",
       "      <th>house_lm</th>\n",
       "      <th>house_wt</th>\n",
       "    </tr>\n",
       "  </thead>\n",
       "  <tbody>\n",
       "    <tr>\n",
       "      <th>0</th>\n",
       "      <td>SqFtTotLiving</td>\n",
       "      <td>232.996101</td>\n",
       "      <td>245.019483</td>\n",
       "    </tr>\n",
       "    <tr>\n",
       "      <th>1</th>\n",
       "      <td>SqFtLot</td>\n",
       "      <td>-0.044389</td>\n",
       "      <td>-0.239152</td>\n",
       "    </tr>\n",
       "    <tr>\n",
       "      <th>2</th>\n",
       "      <td>Bathrooms</td>\n",
       "      <td>-24707.405336</td>\n",
       "      <td>-31708.832665</td>\n",
       "    </tr>\n",
       "    <tr>\n",
       "      <th>3</th>\n",
       "      <td>Bedrooms</td>\n",
       "      <td>-47799.183730</td>\n",
       "      <td>-51735.577471</td>\n",
       "    </tr>\n",
       "    <tr>\n",
       "      <th>4</th>\n",
       "      <td>BldgGrade</td>\n",
       "      <td>104525.562667</td>\n",
       "      <td>115502.335518</td>\n",
       "    </tr>\n",
       "    <tr>\n",
       "      <th>5</th>\n",
       "      <td>intercept</td>\n",
       "      <td>-507334.150810</td>\n",
       "      <td>-581982.222221</td>\n",
       "    </tr>\n",
       "  </tbody>\n",
       "</table>\n",
       "</div>"
      ],
      "text/plain": [
       "       predictor       house_lm       house_wt\n",
       "0  SqFtTotLiving     232.996101     245.019483\n",
       "1        SqFtLot      -0.044389      -0.239152\n",
       "2      Bathrooms  -24707.405336  -31708.832665\n",
       "3       Bedrooms  -47799.183730  -51735.577471\n",
       "4      BldgGrade  104525.562667  115502.335518\n",
       "5      intercept -507334.150810 -581982.222221"
      ]
     },
     "execution_count": 78,
     "metadata": {},
     "output_type": "execute_result"
    }
   ],
   "source": [
    "predictors = ['SqFtTotLiving', 'SqFtLot', 'Bathrooms', \n",
    "              'Bedrooms', 'BldgGrade']\n",
    "outcome = 'AdjSalePrice'\n",
    "\n",
    "house_wt = LinearRegression()\n",
    "house_wt.fit(house[predictors], house[outcome], sample_weight=house.Weight)\n",
    "pd.DataFrame({\n",
    "    'predictor': predictors,\n",
    "    'house_lm': house_lm.coef_,\n",
    "    'house_wt': house_wt.coef_,\n",
    "}).append({\n",
    "    'predictor': 'intercept', \n",
    "    'house_lm': house_lm.intercept_,\n",
    "    'house_wt': house_wt.intercept_,\n",
    "}, ignore_index=True)"
   ]
  },
  {
   "cell_type": "code",
   "execution_count": 79,
   "metadata": {},
   "outputs": [
    {
     "name": "stdout",
     "output_type": "stream",
     "text": [
      "       abs_residual_lm  abs_residual_wt  Year\n",
      "5947       5668.312203      1321.554296  2009\n",
      "10404    119783.593840    124760.823773  2006\n",
      "3544     272703.679307    278336.099708  2012\n",
      "26163    129653.837571    129276.868732  2007\n",
      "13934    311380.134467    314243.892622  2009\n",
      "\n",
      "\n",
      "Year   Abs_residual_lm    Abs_residual_wt\n",
      "2006 140939.21482123676 146573.9502304077\n",
      "2007 146975.93320974286 151699.235647027\n",
      "2008 143298.48448744873 147363.77657027615\n",
      "2009 147553.56445120994 151471.4969032259\n",
      "2010 153050.02345132537 155932.95930690126\n",
      "2011 163369.89853108636 166570.75225876778\n",
      "2012 170567.81392259456 172696.99827507575\n",
      "2013 205296.673700608 207460.52434796595\n",
      "2014 188397.0136066667 189724.22076578054\n",
      "2015 171864.83494665005 168903.20849852837\n"
     ]
    },
    {
     "data": {
      "image/png": "[encoded data removed]",
      "text/plain": [
       "<Figure size 720x288 with 2 Axes>"
      ]
     },
     "metadata": {
      "needs_background": "light"
     },
     "output_type": "display_data"
    }
   ],
   "source": [
    "residuals = pd.DataFrame({\n",
    "    'abs_residual_lm': np.abs(house_lm.predict(house[predictors]) - house[outcome]),\n",
    "    'abs_residual_wt': np.abs(house_wt.predict(house[predictors]) - house[outcome]),\n",
    "    'Year': house['Year'],\n",
    "})\n",
    "print(residuals.head())\n",
    "axes = residuals.boxplot(['abs_residual_lm', 'abs_residual_wt'], by='Year', figsize=(10, 4))\n",
    "axes[0].set_ylim(0, 300000)\n",
    "\n",
    "print(\"\\n\\nYear   Abs_residual_lm    Abs_residual_wt\")\n",
    "for year, group in residuals.groupby('Year'):\n",
    "    print(year, np.mean(group['abs_residual_lm']), np.mean(group['abs_residual_wt']))"
   ]
  },
  {
   "cell_type": "markdown",
   "metadata": {},
   "source": [
    "Seems only help 2015 prediction reduce the residuale.If we have a recent holdout sample we can test the weight could help for furture prediction or not"
   ]
  },
  {
   "cell_type": "markdown",
   "metadata": {},
   "source": [
    "# 4 - Regularization"
   ]
  },
  {
   "cell_type": "code",
   "execution_count": 80,
   "metadata": {},
   "outputs": [
    {
     "name": "stdout",
     "output_type": "stream",
     "text": [
      "       SqFtTotLiving  SqFtLot  Bathrooms  Bedrooms  BldgGrade   PropertyType  \\\n",
      "5947            1680     7477       2.25         3          8  Single Family   \n",
      "10404           2181     5970       2.50         4          8  Single Family   \n",
      "3544            2110     7210       2.25         4          8  Single Family   \n",
      "26163           2390    37376       2.75         4          8  Single Family   \n",
      "13934           2580     5514       2.75         4          7  Single Family   \n",
      "\n",
      "       NbrLivingUnits  SqFtFinBasement  YrBuilt  YrRenovated  NewConstruction  \n",
      "5947                1                0     1988            0            False  \n",
      "10404               1                0     2006            0             True  \n",
      "3544                1                0     1978            0            False  \n",
      "26163               1              900     1980            0            False  \n",
      "13934               1              770     1971            0            False  \n",
      "\n",
      " PropertyType List \n",
      "Single Family    16593\n",
      "Townhouse         1353\n",
      "Multiplex          203\n",
      "Name: PropertyType, dtype: int64\n"
     ]
    }
   ],
   "source": [
    "predictors = ['SqFtTotLiving', 'SqFtLot', 'Bathrooms', 'Bedrooms',\n",
    "              'BldgGrade', 'PropertyType', 'NbrLivingUnits',\n",
    "              'SqFtFinBasement', 'YrBuilt', 'YrRenovated', \n",
    "              'NewConstruction']\n",
    "\n",
    "outcome = 'AdjSalePrice'\n",
    "\n",
    "print(house[predictors].head())\n",
    "\n",
    "print(\"\\n PropertyType List \\n{}\".format(house['PropertyType'].value_counts(dropna=False)))\n",
    "\n",
    "X_train = pd.get_dummies(house[predictors], drop_first=True)\n",
    "X_train['NewConstruction'] = [1 if nc else 0 for nc in X_train['NewConstruction']]\n",
    "y_train = house[outcome]\n",
    "\n",
    "X_test = pd.get_dummies(house_test[predictors], drop_first=True)\n",
    "X_test['NewConstruction'] = [1 if nc else 0 for nc in X_test['NewConstruction']]\n",
    "y_test = house_test[outcome]"
   ]
  },
  {
   "cell_type": "markdown",
   "metadata": {},
   "source": [
    "### Regular Multiple Regression"
   ]
  },
  {
   "cell_type": "code",
   "execution_count": 81,
   "metadata": {},
   "outputs": [
    {
     "data": {
      "text/plain": [
       "{'Intercept': 6056760.733,\n",
       " 'SqFtTotLiving': 205.344,\n",
       " 'SqFtLot': 0.081,\n",
       " 'Bathrooms': 35930.065,\n",
       " 'Bedrooms': -51473.676,\n",
       " 'BldgGrade': 134263.922,\n",
       " 'NbrLivingUnits': 17440.038,\n",
       " 'SqFtFinBasement': 5.921,\n",
       " 'YrBuilt': -3510.372,\n",
       " 'YrRenovated': -4.836,\n",
       " 'NewConstruction': -5967.08,\n",
       " 'PropertyType_Single Family': 40466.571}"
      ]
     },
     "execution_count": 81,
     "metadata": {},
     "output_type": "execute_result"
    }
   ],
   "source": [
    "house_lm = LinearRegression()\n",
    "house_lm.fit(X_train, y_train)\n",
    "\n",
    "mlr_coefs = dict(\n",
    "    zip(['Intercept'] + X_train.columns.tolist()[:-1], \n",
    "        np.round(np.concatenate((house_lm.intercept_, house_lm.coef_), \n",
    "                                axis=None), 3))\n",
    ")\n",
    "\n",
    "mlr_coefs"
   ]
  },
  {
   "cell_type": "code",
   "execution_count": 82,
   "metadata": {},
   "outputs": [
    {
     "name": "stdout",
     "output_type": "stream",
     "text": [
      "regular mlr MSE: 257688\n",
      "r2_test: 0.5853\n"
     ]
    }
   ],
   "source": [
    "fitted_test = house_lm.predict(X_test)\n",
    "MSE_test = np.sqrt(mean_squared_error(y_test, fitted_test))\n",
    "r2 = r2_score(y_test, fitted_test)\n",
    "print(f'regular mlr MSE: {MSE_test:.0f}')\n",
    "print(f'r2_test: {r2:.4f}')"
   ]
  },
  {
   "cell_type": "markdown",
   "metadata": {},
   "source": [
    "### L2 - Ridge regression (Parameter shrinkage)"
   ]
  },
  {
   "cell_type": "code",
   "execution_count": 83,
   "metadata": {
    "scrolled": true
   },
   "outputs": [
    {
     "name": "stdout",
     "output_type": "stream",
     "text": [
      "Ridge Regression MAE: 137944.922\n",
      "Ridge Regression coefficients:\n"
     ]
    },
    {
     "data": {
      "text/plain": [
       "{'Intercept': 5937098.438,\n",
       " 'SqFtTotLiving': 200.405,\n",
       " 'SqFtLot': 0.093,\n",
       " 'Bathrooms': 37491.218,\n",
       " 'Bedrooms': -49996.469,\n",
       " 'BldgGrade': 134180.512,\n",
       " 'NbrLivingUnits': 9306.181,\n",
       " 'SqFtFinBasement': 9.016,\n",
       " 'YrBuilt': -3437.124,\n",
       " 'YrRenovated': -3.643,\n",
       " 'NewConstruction': -5910.769,\n",
       " 'PropertyType_Single Family': 25580.297}"
      ]
     },
     "execution_count": 83,
     "metadata": {},
     "output_type": "execute_result"
    }
   ],
   "source": [
    "ridge_cv = RidgeCV(normalize=True, alphas=np.logspace(-10, 1, 400))\n",
    "ridge_model = ridge_cv.fit(X_train, y_train)\n",
    "ridge_prediction = ridge_model.predict(X_test)\n",
    "ridge_mae = np.mean(np.abs(y_test - ridge_prediction))\n",
    "ridge_coefs = dict(\n",
    "    zip(['Intercept'] + X_train.columns.tolist()[:-1], \n",
    "        np.round(np.concatenate((ridge_model.intercept_, ridge_model.coef_), \n",
    "                                axis=None), 3))\n",
    ")\n",
    "\n",
    "print('Ridge Regression MAE: {}'.format(np.round(ridge_mae, 3)))\n",
    "print('Ridge Regression coefficients:')\n",
    "ridge_coefs"
   ]
  },
  {
   "cell_type": "markdown",
   "metadata": {},
   "source": [
    "### L1 - Lasso regression (Parameter sparsity)"
   ]
  },
  {
   "cell_type": "code",
   "execution_count": 84,
   "metadata": {},
   "outputs": [
    {
     "name": "stderr",
     "output_type": "stream",
     "text": [
      "/Users/siyuandong/anaconda3/lib/python3.7/site-packages/sklearn/model_selection/_split.py:1978: FutureWarning: The default value of cv will change from 3 to 5 in version 0.22. Specify it explicitly to silence this warning.\n",
      "  warnings.warn(CV_WARNING, FutureWarning)\n"
     ]
    },
    {
     "name": "stdout",
     "output_type": "stream",
     "text": [
      "LASSO MAE: 137896.134\n",
      "LASSO coefficients:\n"
     ]
    },
    {
     "data": {
      "text/plain": [
       "{'Intercept': 5844059.296,\n",
       " 'SqFtTotLiving': 202.358,\n",
       " 'SqFtLot': 0.045,\n",
       " 'Bathrooms': 31939.597,\n",
       " 'Bedrooms': -47844.276,\n",
       " 'BldgGrade': 134031.936,\n",
       " 'NbrLivingUnits': -0.0,\n",
       " 'SqFtFinBasement': 6.39,\n",
       " 'YrBuilt': -3370.897,\n",
       " 'YrRenovated': -0.0,\n",
       " 'NewConstruction': -998.078,\n",
       " 'PropertyType_Single Family': -0.0}"
      ]
     },
     "execution_count": 84,
     "metadata": {},
     "output_type": "execute_result"
    }
   ],
   "source": [
    "lasso_cv = LassoCV(normalize=True, alphas=np.logspace(-10, 1, 400))\n",
    "lasso_model = lasso_cv.fit(X_train, y_train)\n",
    "lasso_prediction = lasso_model.predict(X_test)\n",
    "lasso_mae = np.mean(np.abs(y_test - lasso_prediction))\n",
    "lasso_coefs = dict(\n",
    "    zip(['Intercept'] + X_train.columns.tolist()[:-1], \n",
    "        np.round(np.concatenate((lasso_model.intercept_, lasso_model.coef_), axis=None), 3))\n",
    ")\n",
    "\n",
    "print('LASSO MAE: {}'.format(np.round(lasso_mae, 3)))\n",
    "print('LASSO coefficients:')\n",
    "lasso_coefs"
   ]
  },
  {
   "cell_type": "markdown",
   "metadata": {},
   "source": [
    "# Home Work"
   ]
  },
  {
   "cell_type": "markdown",
   "metadata": {},
   "source": [
    "1. Compare the three model fits and draw conclusion \n",
    "from the comparision of the three model firt regarding there coefficent difference"
   ]
  },
  {
   "cell_type": "markdown",
   "metadata": {},
   "source": [
    "By introducing shrinkage penalty, both ridge regression and Laaso show better performances than regular multiple regression. Lasso can force coefficients of those insignificant varables to zero. Lasso and ridge regression coefficient estimates are given by the first point at which an ellipse contacts the constraint region. Lasso's regression constraints are in a diamond while ridge regression's constrains are in a circle. Since ridge regression has a circular constraint with no sharp points, the intersection will not generally occur on an axis. So, the ridge regression coefficient estimates will be exclusively non-zero. However, lasso constraint has corners at each of the axes, and so the ellipse will often intersect the constraint region at an axis. When this occurs, one of the coefficients will equal zero. "
   ]
  },
  {
   "cell_type": "markdown",
   "metadata": {},
   "source": [
    "2. Show the three model performance on both train and test"
   ]
  },
  {
   "cell_type": "markdown",
   "metadata": {},
   "source": [
    "### Performance of Regular Multiple Regression "
   ]
  },
  {
   "cell_type": "code",
   "execution_count": 89,
   "metadata": {},
   "outputs": [
    {
     "name": "stdout",
     "output_type": "stream",
     "text": [
      "regular mlr MSE: 242270\n",
      "r2_test: 0.5970\n"
     ]
    }
   ],
   "source": [
    "fitted_test_train = house_lm.predict(X_train)\n",
    "MSE_train = np.sqrt(mean_squared_error(y_train, fitted_test_train))\n",
    "r2 = r2_score(y_train, fitted_test_train)\n",
    "print(f'regular mlr MSE: {MSE_train:.0f}')\n",
    "print(f'r2_test: {r2:.4f}')"
   ]
  },
  {
   "cell_type": "code",
   "execution_count": 90,
   "metadata": {},
   "outputs": [
    {
     "name": "stdout",
     "output_type": "stream",
     "text": [
      "regular mlr MSE: 257688\n",
      "r2_test: 0.5853\n"
     ]
    }
   ],
   "source": [
    "fitted_test = house_lm.predict(X_test)\n",
    "MSE_test = np.sqrt(mean_squared_error(y_test, fitted_test))\n",
    "r2 = r2_score(y_test, fitted_test)\n",
    "print(f'regular mlr MSE: {MSE_test:.0f}')\n",
    "print(f'r2_test: {r2:.4f}')"
   ]
  },
  {
   "cell_type": "markdown",
   "metadata": {},
   "source": [
    "### Performance of Ridge Regression"
   ]
  },
  {
   "cell_type": "code",
   "execution_count": 97,
   "metadata": {},
   "outputs": [
    {
     "name": "stdout",
     "output_type": "stream",
     "text": [
      "ridge MSE: 242288\n",
      "r2_test: 0.5969\n"
     ]
    }
   ],
   "source": [
    "ridge_prediction = ridge_model.predict(X_train)\n",
    "MSE_train = np.sqrt(mean_squared_error(y_train, ridge_prediction))\n",
    "r2 = r2_score(y_train, ridge_prediction)\n",
    "print(f'ridge MSE: {MSE_train:.0f}')\n",
    "print(f'r2_train: {r2:.4f}')"
   ]
  },
  {
   "cell_type": "code",
   "execution_count": 98,
   "metadata": {},
   "outputs": [
    {
     "name": "stdout",
     "output_type": "stream",
     "text": [
      "ridge MSE: 257662\n",
      "r2_test: 0.5854\n"
     ]
    }
   ],
   "source": [
    "ridge_prediction = ridge_model.predict(X_test)\n",
    "MSE_test = np.sqrt(mean_squared_error(y_test, ridge_prediction))\n",
    "r2 = r2_score(y_test, ridge_prediction)\n",
    "print(f'ridge MSE: {MSE_test:.0f}')\n",
    "print(f'r2_test: {r2:.4f}')"
   ]
  },
  {
   "cell_type": "markdown",
   "metadata": {},
   "source": [
    "### Performance of Lasso"
   ]
  },
  {
   "cell_type": "code",
   "execution_count": 96,
   "metadata": {},
   "outputs": [
    {
     "name": "stdout",
     "output_type": "stream",
     "text": [
      "regular mlr MSE: 242339\n",
      "r2_test: 0.5967\n"
     ]
    }
   ],
   "source": [
    "lasso_prediction = lasso_model.predict(X_train)\n",
    "MSE_train = np.sqrt(mean_squared_error(y_train, lasso_prediction))\n",
    "r2 = r2_score(y_train, lasso_prediction)\n",
    "print(f'lasso mlr MSE: {MSE_train:.0f}')\n",
    "print(f'r2_train: {r2:.4f}')"
   ]
  },
  {
   "cell_type": "code",
   "execution_count": 99,
   "metadata": {},
   "outputs": [
    {
     "name": "stdout",
     "output_type": "stream",
     "text": [
      "lasso MSE: 257791\n",
      "r2_test: 0.5849\n"
     ]
    }
   ],
   "source": [
    "lasso_prediction = lasso_model.predict(X_test)\n",
    "MSE_test = np.sqrt(mean_squared_error(y_test, lasso_prediction))\n",
    "r2 = r2_score(y_test, lasso_prediction)\n",
    "print(f'lasso MSE: {MSE_test:.0f}')\n",
    "print(f'r2_test: {r2:.4f}')"
   ]
  }
 ],
 "metadata": {
  "kernelspec": {
   "display_name": "Python 3",
   "language": "python",
   "name": "python3"
  },
  "language_info": {
   "codemirror_mode": {
    "name": "ipython",
    "version": 3
   },
   "file_extension": ".py",
   "mimetype": "text/x-python",
   "name": "python",
   "nbconvert_exporter": "python",
   "pygments_lexer": "ipython3",
   "version": "3.7.3"
  }
 },
 "nbformat": 4,
 "nbformat_minor": 2
}
