{
 "cells": [
  {
   "cell_type": "markdown",
   "metadata": {},
   "source": [
    "# This practice will cover learning points in class2\n",
    "### 1 - Fit MLR model in python with sklearn and statesmodel packages\n",
    "### 2 - Model Selection\n",
    "### 3 - Weighted regression\n",
    "### 4 - Regularization, L1 and L2"
   ]
  },
  {
   "cell_type": "markdown",
   "metadata": {},
   "source": [
    "Import required Python packages."
   ]
  },
  {
   "cell_type": "code",
   "execution_count": 1,
   "metadata": {},
   "outputs": [
    {
     "name": "stdout",
     "output_type": "stream",
     "text": [
      "no display found. Using non-interactive Agg backend\n"
     ]
    }
   ],
   "source": [
    "from pathlib import Path\n",
    "import os\n",
    "import pandas as pd\n",
    "import numpy as np\n",
    "\n",
    "from sklearn.model_selection import train_test_split\n",
    "\n",
    "from sklearn.metrics import r2_score, mean_squared_error\n",
    "from sklearn.linear_model import LinearRegression, RidgeCV, LassoCV, ElasticNetCV\n",
    "\n",
    "import statsmodels.api as sm\n",
    "\n",
    "import seaborn as sns\n",
    "import matplotlib.pyplot as plt\n",
    "\n",
    "from dmba import stepwise_selection\n",
    "from dmba import AIC_score\n",
    "\n",
    "%matplotlib inline"
   ]
  },
  {
   "cell_type": "markdown",
   "metadata": {},
   "source": [
    "Define paths to data sets. If you don't keep your data in the same directory as the code, adapt the path names."
   ]
  },
  {
   "cell_type": "code",
   "execution_count": 7,
   "metadata": {},
   "outputs": [],
   "source": [
    "DATA = Path('.').resolve().parents[1] /'Practice\\mlr'\n",
    "\n",
    "HOUSE_CSV =DATA/ 'house_sales.csv'"
   ]
  },
  {
   "cell_type": "code",
   "execution_count": 8,
   "metadata": {},
   "outputs": [
    {
     "name": "stdout",
     "output_type": "stream",
     "text": [
      "/Users/siyuandong/Documents/Data Scientist Bootcamp/DataScienceProgram/Class2/Practice\\mlr\n",
      "/Users/siyuandong/Documents/Data Scientist Bootcamp/DataScienceProgram/Class2/Practice\\mlr/house_sales.csv\n"
     ]
    }
   ],
   "source": [
    "print(DATA)\n",
    "print(HOUSE_CSV)"
   ]
  },
  {
   "cell_type": "markdown",
   "metadata": {},
   "source": [
    "#### Data read and train-test split"
   ]
  },
  {
   "cell_type": "code",
   "execution_count": 9,
   "metadata": {},
   "outputs": [
    {
     "name": "stdout",
     "output_type": "stream",
     "text": [
      "      DocumentDate  SalePrice  PropertyID   PropertyType          ym  zhvi_px  \\\n",
      "9395    2006-10-18     315000  2893000390  Single Family  2006-10-01   418300   \n",
      "16963   2007-06-26     648000  6021500905  Single Family  2007-06-01   433200   \n",
      "4310    2007-07-09     459000  1522069074  Single Family  2007-07-01   434200   \n",
      "13784   2006-02-15     295000  4040700130  Single Family  2006-02-01   387600   \n",
      "1944    2008-02-16     665000   809000560  Single Family  2008-02-01   418400   \n",
      "\n",
      "       zhvi_idx  AdjSalePrice  NbrLivingUnits  SqFtLot  ...  Bathrooms  \\\n",
      "9395   0.961167      327727.0               1     7200  ...       1.75   \n",
      "16963  0.995404      650992.0               1     4249  ...       1.00   \n",
      "4310   0.997702      460057.0               1    95396  ...       1.50   \n",
      "13784  0.890625      331228.0               1     8447  ...       2.75   \n",
      "1944   0.961397      691702.0               1     4000  ...       3.50   \n",
      "\n",
      "       Bedrooms  BldgGrade  YrBuilt  YrRenovated  TrafficNoise  LandVal  \\\n",
      "9395          3          7     1974            0             0    95000   \n",
      "16963         3          7     1937         1995             0   234000   \n",
      "4310          4          8     1959         2009             0   185000   \n",
      "13784         4          7     1961            0             0   317000   \n",
      "1944          6         10     1929         2010             0   416000   \n",
      "\n",
      "       ImpsVal  ZipCode  NewConstruction  \n",
      "9395    147000    98031            False  \n",
      "16963   297000    98117            False  \n",
      "4310    289000    98038            False  \n",
      "13784   109000    98008            False  \n",
      "1944    806000    98109            False  \n",
      "\n",
      "[5 rows x 22 columns]\n",
      "(18149, 22)\n",
      "      DocumentDate  SalePrice  PropertyID   PropertyType          ym  zhvi_px  \\\n",
      "13896   2010-05-25     342000  4058801760  Single Family  2010-05-01   347800   \n",
      "12287   2006-01-24     318795  3630150080  Single Family  2006-01-01   383200   \n",
      "15447   2007-07-05     606000  5104512180  Single Family  2007-07-01   434200   \n",
      "8507    2006-05-16     540000  2749600095  Single Family  2006-05-01   400600   \n",
      "12791   2006-07-05     321000  3812400293  Single Family  2006-07-01   407700   \n",
      "\n",
      "       zhvi_idx  AdjSalePrice  NbrLivingUnits  SqFtLot  ...  Bathrooms  \\\n",
      "13896  0.799173      427942.0               1    11400  ...       1.75   \n",
      "12287  0.880515      362055.0               1     3150  ...       2.50   \n",
      "15447  0.997702      607396.0               1     6930  ...       3.00   \n",
      "8507   0.920496      586640.0               1     4800  ...       1.50   \n",
      "12791  0.936811      342652.0               1     6912  ...       2.25   \n",
      "\n",
      "       Bedrooms  BldgGrade  YrBuilt  YrRenovated  TrafficNoise  LandVal  \\\n",
      "13896         3          8     1953            0             0   210000   \n",
      "12287         3          8     2006            0             0   283000   \n",
      "15447         5          8     2004            0             0   108000   \n",
      "8507          3          7     1924            0             0   505000   \n",
      "12791         5          7     1963            0             0   112000   \n",
      "\n",
      "       ImpsVal  ZipCode  NewConstruction  \n",
      "13896   181000    98178            False  \n",
      "12287   190000    98029            False  \n",
      "15447   371000    98038            False  \n",
      "8507     73000    98119            False  \n",
      "12791   180000    98118            False  \n",
      "\n",
      "[5 rows x 22 columns]\n",
      "(4538, 22)\n"
     ]
    }
   ],
   "source": [
    "houseall = pd.read_csv('house_sales.csv', sep='\\t')\n",
    "\n",
    "house, house_test = train_test_split(houseall, test_size=0.2)\n",
    "\n",
    "print(house.head())\n",
    "print(house.shape)\n",
    "\n",
    "print(house_test.head())\n",
    "print(house_test.shape)"
   ]
  },
  {
   "cell_type": "markdown",
   "metadata": {},
   "source": [
    "We can use the `LinearRegression` model from _scikit-learn_."
   ]
  },
  {
   "cell_type": "markdown",
   "metadata": {},
   "source": [
    "## 1 - Multiple Linear Regression (SKlearn)"
   ]
  },
  {
   "cell_type": "code",
   "execution_count": 10,
   "metadata": {},
   "outputs": [
    {
     "name": "stdout",
     "output_type": "stream",
     "text": [
      "       AdjSalePrice  SqFtTotLiving  SqFtLot  Bathrooms  Bedrooms  BldgGrade\n",
      "9395       327727.0           1610     7200       1.75         3          7\n",
      "16963      650992.0           1950     4249       1.00         3          7\n",
      "4310       460057.0           1610    95396       1.50         4          8\n",
      "13784      331228.0           1050     8447       2.75         4          7\n",
      "1944       691702.0           3140     4000       3.50         6         10\n"
     ]
    }
   ],
   "source": [
    "subset = ['AdjSalePrice', 'SqFtTotLiving', 'SqFtLot', 'Bathrooms', \n",
    "          'Bedrooms', 'BldgGrade']\n",
    "\n",
    "print(house[subset].head())"
   ]
  },
  {
   "cell_type": "code",
   "execution_count": 11,
   "metadata": {},
   "outputs": [
    {
     "name": "stdout",
     "output_type": "stream",
     "text": [
      "      DocumentDate  SalePrice  PropertyID   PropertyType          ym  zhvi_px  \\\n",
      "9395    2006-10-18     315000  2893000390  Single Family  2006-10-01   418300   \n",
      "16963   2007-06-26     648000  6021500905  Single Family  2007-06-01   433200   \n",
      "4310    2007-07-09     459000  1522069074  Single Family  2007-07-01   434200   \n",
      "13784   2006-02-15     295000  4040700130  Single Family  2006-02-01   387600   \n",
      "1944    2008-02-16     665000   809000560  Single Family  2008-02-01   418400   \n",
      "\n",
      "       zhvi_idx  AdjSalePrice  NbrLivingUnits  SqFtLot  ...  Bathrooms  \\\n",
      "9395   0.961167      327727.0               1     7200  ...       1.75   \n",
      "16963  0.995404      650992.0               1     4249  ...       1.00   \n",
      "4310   0.997702      460057.0               1    95396  ...       1.50   \n",
      "13784  0.890625      331228.0               1     8447  ...       2.75   \n",
      "1944   0.961397      691702.0               1     4000  ...       3.50   \n",
      "\n",
      "       Bedrooms  BldgGrade  YrBuilt  YrRenovated  TrafficNoise  LandVal  \\\n",
      "9395          3          7     1974            0             0    95000   \n",
      "16963         3          7     1937         1995             0   234000   \n",
      "4310          4          8     1959         2009             0   185000   \n",
      "13784         4          7     1961            0             0   317000   \n",
      "1944          6         10     1929         2010             0   416000   \n",
      "\n",
      "       ImpsVal  ZipCode  NewConstruction  \n",
      "9395    147000    98031            False  \n",
      "16963   297000    98117            False  \n",
      "4310    289000    98038            False  \n",
      "13784   109000    98008            False  \n",
      "1944    806000    98109            False  \n",
      "\n",
      "[5 rows x 22 columns]\n",
      "Index(['DocumentDate', 'SalePrice', 'PropertyID', 'PropertyType', 'ym',\n",
      "       'zhvi_px', 'zhvi_idx', 'AdjSalePrice', 'NbrLivingUnits', 'SqFtLot',\n",
      "       'SqFtTotLiving', 'SqFtFinBasement', 'Bathrooms', 'Bedrooms',\n",
      "       'BldgGrade', 'YrBuilt', 'YrRenovated', 'TrafficNoise', 'LandVal',\n",
      "       'ImpsVal', 'ZipCode', 'NewConstruction'],\n",
      "      dtype='object')\n"
     ]
    }
   ],
   "source": [
    "print(house.head())\n",
    "print(house.columns)"
   ]
  },
  {
   "cell_type": "code",
   "execution_count": 12,
   "metadata": {},
   "outputs": [
    {
     "name": "stdout",
     "output_type": "stream",
     "text": [
      "Intercept: -536138.836\n",
      "Coefficients:\n",
      " SqFtTotLiving: 234.08117282365333\n",
      " SqFtLot: -0.04652792922606398\n",
      " Bathrooms: -24624.249708635223\n",
      " Bedrooms: -46713.20548791042\n",
      " BldgGrade: 107576.23900461842\n"
     ]
    }
   ],
   "source": [
    "predictors = ['SqFtTotLiving', 'SqFtLot', 'Bathrooms', \n",
    "              'Bedrooms', 'BldgGrade']\n",
    "outcome = 'AdjSalePrice'\n",
    "\n",
    "house_lm = LinearRegression()\n",
    "house_lm.fit(house[predictors], house[outcome])\n",
    "\n",
    "print(f'Intercept: {house_lm.intercept_:.3f}')\n",
    "print('Coefficients:')\n",
    "for name, coef in zip(predictors, house_lm.coef_):\n",
    "    print(f' {name}: {coef}')"
   ]
  },
  {
   "cell_type": "markdown",
   "metadata": {},
   "source": [
    "### Assessing the Model with performance KPIs\n",
    "_Scikit-learn_ provides a number of metrics to determine the quality of a model. Here we use the `r2_score` and `RMSE`."
   ]
  },
  {
   "cell_type": "code",
   "execution_count": 13,
   "metadata": {},
   "outputs": [
    {
     "name": "stdout",
     "output_type": "stream",
     "text": [
      "RMSE: 268219\n",
      "r2: 0.5332\n",
      "RMSE_test: 231348\n",
      "r2_test: 0.5759\n"
     ]
    }
   ],
   "source": [
    "fitted = house_lm.predict(house[predictors])\n",
    "RMSE = np.sqrt(mean_squared_error(house[outcome], fitted))\n",
    "r2 = r2_score(house[outcome], fitted)\n",
    "print(f'RMSE: {RMSE:.0f}')\n",
    "print(f'r2: {r2:.4f}')\n",
    "\n",
    "fitted_test = house_lm.predict(house_test[predictors])\n",
    "RMSE_test = np.sqrt(mean_squared_error(house_test[outcome], fitted_test))\n",
    "r2_test= r2_score(house_test[outcome], fitted_test)\n",
    "print(f'RMSE_test: {RMSE_test:.0f}')\n",
    "print(f'r2_test: {r2_test:.4f}')"
   ]
  },
  {
   "cell_type": "markdown",
   "metadata": {},
   "source": [
    "## 1 - Multiple Linear Regression (statsmodels)"
   ]
  },
  {
   "cell_type": "markdown",
   "metadata": {},
   "source": [
    "While _scikit-learn_ provides a variety of different metrics, _statsmodels_ provides a more in-depth analysis of the linear regression model. This package has two different ways of specifying the model, one that is similar to _scikit-learn_ and one that allows specifying _R_-style formulas. Here we use the first approach. As _statsmodels_ doesn't add an intercept automaticaly, we need to add a constant column with value 1 to the predictors. We can use the _pandas_ method assign for this."
   ]
  },
  {
   "cell_type": "code",
   "execution_count": 14,
   "metadata": {},
   "outputs": [
    {
     "name": "stdout",
     "output_type": "stream",
     "text": [
      "                            OLS Regression Results                            \n",
      "==============================================================================\n",
      "Dep. Variable:           AdjSalePrice   R-squared:                       0.533\n",
      "Model:                            OLS   Adj. R-squared:                  0.533\n",
      "Method:                 Least Squares   F-statistic:                     4144.\n",
      "Date:                Sun, 07 Jun 2020   Prob (F-statistic):               0.00\n",
      "Time:                        16:35:27   Log-Likelihood:            -2.5261e+05\n",
      "No. Observations:               18149   AIC:                         5.052e+05\n",
      "Df Residuals:                   18143   BIC:                         5.053e+05\n",
      "Df Model:                           5                                         \n",
      "Covariance Type:            nonrobust                                         \n",
      "=================================================================================\n",
      "                    coef    std err          t      P>|t|      [0.025      0.975]\n",
      "---------------------------------------------------------------------------------\n",
      "SqFtTotLiving   234.0812      4.459     52.495      0.000     225.341     242.821\n",
      "SqFtLot          -0.0465      0.072     -0.648      0.517      -0.187       0.094\n",
      "Bathrooms     -2.462e+04   4163.604     -5.914      0.000   -3.28e+04   -1.65e+04\n",
      "Bedrooms      -4.671e+04   2838.017    -16.460      0.000   -5.23e+04   -4.12e+04\n",
      "BldgGrade      1.076e+05   2747.241     39.158      0.000    1.02e+05    1.13e+05\n",
      "const         -5.361e+05   1.79e+04    -29.964      0.000   -5.71e+05   -5.01e+05\n",
      "==============================================================================\n",
      "Omnibus:                    24702.000   Durbin-Watson:                   1.996\n",
      "Prob(Omnibus):                  0.000   Jarque-Bera (JB):         18416493.773\n",
      "Skew:                           7.409   Prob(JB):                         0.00\n",
      "Kurtosis:                     158.352   Cond. No.                     2.79e+05\n",
      "==============================================================================\n",
      "\n",
      "Warnings:\n",
      "[1] Standard Errors assume that the covariance matrix of the errors is correctly specified.\n",
      "[2] The condition number is large, 2.79e+05. This might indicate that there are\n",
      "strong multicollinearity or other numerical problems.\n"
     ]
    }
   ],
   "source": [
    "mlr_sm = sm.OLS(house[outcome], house[predictors].assign(const=1))\n",
    "results = mlr_sm.fit()\n",
    "print(results.summary())"
   ]
  },
  {
   "cell_type": "markdown",
   "metadata": {},
   "source": [
    "### Correlations between predictors"
   ]
  },
  {
   "cell_type": "code",
   "execution_count": 15,
   "metadata": {},
   "outputs": [
    {
     "name": "stdout",
     "output_type": "stream",
     "text": [
      "Correlation Matrix \n",
      "                SqFtTotLiving   SqFtLot  Bathrooms  Bedrooms  BldgGrade\n",
      "SqFtTotLiving       1.000000  0.190554   0.763623  0.597139   0.770019\n",
      "SqFtLot             0.190554  1.000000   0.102738  0.067565   0.144696\n",
      "Bathrooms           0.763623  0.102738   1.000000  0.537049   0.658901\n",
      "Bedrooms            0.597139  0.067565   0.537049  1.000000   0.368354\n",
      "BldgGrade           0.770019  0.144696   0.658901  0.368354   1.000000\n"
     ]
    },
    {
     "data": {
      "image/png": "[encoded data removed]",
      "text/plain": [
       "<Figure size 432x288 with 2 Axes>"
      ]
     },
     "metadata": {
      "needs_background": "light"
     },
     "output_type": "display_data"
    }
   ],
   "source": [
    "corr = house[predictors].corr()\n",
    "print(\"Correlation Matrix \\n {}\".format(corr))\n",
    "\n",
    "ax = sns.heatmap(\n",
    "    corr, \n",
    "    vmin=-1, vmax=1, center=0,\n",
    "    cmap=sns.diverging_palette(20, 220, n=200),\n",
    "    square=True\n",
    ")\n",
    "ax.set_xticklabels(\n",
    "    ax.get_xticklabels(),\n",
    "    rotation=45,\n",
    "    horizontalalignment='right'\n",
    ");"
   ]
  },
  {
   "cell_type": "markdown",
   "metadata": {},
   "source": [
    "## 2 - Model Selection and Stepwise Regression"
   ]
  },
  {
   "cell_type": "code",
   "execution_count": 16,
   "metadata": {},
   "outputs": [
    {
     "name": "stdout",
     "output_type": "stream",
     "text": [
      "       SqFtTotLiving  SqFtLot  Bathrooms  Bedrooms  BldgGrade   PropertyType  \\\n",
      "9395            1610     7200       1.75         3          7  Single Family   \n",
      "16963           1950     4249       1.00         3          7  Single Family   \n",
      "4310            1610    95396       1.50         4          8  Single Family   \n",
      "13784           1050     8447       2.75         4          7  Single Family   \n",
      "1944            3140     4000       3.50         6         10  Single Family   \n",
      "\n",
      "       NbrLivingUnits  SqFtFinBasement  YrBuilt  YrRenovated  NewConstruction  \n",
      "9395                1                0     1974            0            False  \n",
      "16963               1              420     1937         1995            False  \n",
      "4310                1                0     1959         2009            False  \n",
      "13784               1                0     1961            0            False  \n",
      "1944                1              860     1929         2010            False  \n",
      "\n",
      " PropertyType List \n",
      "Single Family    16563\n",
      "Townhouse         1374\n",
      "Multiplex          212\n",
      "Name: PropertyType, dtype: int64\n",
      "\n",
      "Predictors after nominal varibale(s) treatment: (18149, 12) \n",
      "\n",
      "\n",
      "                            OLS Regression Results                            \n",
      "==============================================================================\n",
      "Dep. Variable:           AdjSalePrice   R-squared:                       0.585\n",
      "Model:                            OLS   Adj. R-squared:                  0.585\n",
      "Method:                 Least Squares   F-statistic:                     2135.\n",
      "Date:                Thu, 11 Jun 2020   Prob (F-statistic):               0.00\n",
      "Time:                        21:10:43   Log-Likelihood:            -2.5153e+05\n",
      "No. Observations:               18149   AIC:                         5.031e+05\n",
      "Df Residuals:                   18136   BIC:                         5.032e+05\n",
      "Df Model:                          12                                         \n",
      "Covariance Type:            nonrobust                                         \n",
      "==============================================================================================\n",
      "                                 coef    std err          t      P>|t|      [0.025      0.975]\n",
      "----------------------------------------------------------------------------------------------\n",
      "SqFtTotLiving                202.7977      4.865     41.682      0.000     193.261     212.334\n",
      "SqFtLot                        0.1193      0.068      1.745      0.081      -0.015       0.253\n",
      "Bathrooms                   3.785e+04   4395.350      8.610      0.000    2.92e+04    4.65e+04\n",
      "Bedrooms                   -5.074e+04   2744.051    -18.489      0.000   -5.61e+04   -4.54e+04\n",
      "BldgGrade                   1.393e+05   2806.554     49.620      0.000    1.34e+05    1.45e+05\n",
      "NbrLivingUnits              1164.5655   2.03e+04      0.057      0.954   -3.86e+04    4.09e+04\n",
      "SqFtFinBasement               10.2884      5.343      1.926      0.054      -0.184      20.761\n",
      "YrBuilt                    -3576.8820     88.921    -40.225      0.000   -3751.175   -3402.589\n",
      "YrRenovated                   -3.1728      4.522     -0.702      0.483     -12.037       5.691\n",
      "NewConstruction            -1659.3471   6837.661     -0.243      0.808   -1.51e+04    1.17e+04\n",
      "PropertyType_Single Family  2.232e+04   3.03e+04      0.738      0.461    -3.7e+04    8.16e+04\n",
      "PropertyType_Townhouse      8.881e+04   3.13e+04      2.836      0.005    2.74e+04     1.5e+05\n",
      "const                       6.181e+06   1.78e+05     34.723      0.000    5.83e+06    6.53e+06\n",
      "==============================================================================\n",
      "Omnibus:                    25752.533   Durbin-Watson:                   1.997\n",
      "Prob(Omnibus):                  0.000   Jarque-Bera (JB):         24436908.705\n",
      "Skew:                           7.974   Prob(JB):                         0.00\n",
      "Kurtosis:                     182.055   Cond. No.                     2.92e+06\n",
      "==============================================================================\n",
      "\n",
      "Warnings:\n",
      "[1] Standard Errors assume that the covariance matrix of the errors is correctly specified.\n",
      "[2] The condition number is large, 2.92e+06. This might indicate that there are\n",
      "strong multicollinearity or other numerical problems.\n"
     ]
    }
   ],
   "source": [
    "predictors = ['SqFtTotLiving', 'SqFtLot', 'Bathrooms', 'Bedrooms',\n",
    "              'BldgGrade', 'PropertyType', 'NbrLivingUnits',\n",
    "              'SqFtFinBasement', 'YrBuilt', 'YrRenovated', \n",
    "              'NewConstruction']\n",
    "\n",
    "print(house[predictors].head())\n",
    "\n",
    "print(\"\\n PropertyType List \\n{}\".format(house['PropertyType'].value_counts(dropna=False)))\n",
    "\n",
    "X = pd.get_dummies(house[predictors], drop_first=True)\n",
    "X['NewConstruction'] = [1 if nc else 0 for nc in X['NewConstruction']]\n",
    "\n",
    "print(\"\\nPredictors after nominal varibale(s) treatment: {} \\n\\n\".format(X.shape))\n",
    "\n",
    "house_full = sm.OLS(house[outcome], X.assign(const=1))\n",
    "results = house_full.fit()\n",
    "print(results.summary())"
   ]
  },
  {
   "cell_type": "markdown",
   "metadata": {},
   "source": [
    "We can use the `stepwise_selection` method from the _dmba_ package."
   ]
  },
  {
   "cell_type": "code",
   "execution_count": 17,
   "metadata": {},
   "outputs": [
    {
     "name": "stdout",
     "output_type": "stream",
     "text": [
      "Variables: SqFtTotLiving, SqFtLot, Bathrooms, Bedrooms, BldgGrade, NbrLivingUnits, SqFtFinBasement, YrBuilt, YrRenovated, NewConstruction, PropertyType_Single Family, PropertyType_Townhouse\n",
      "Start: score=519043.64, constant\n",
      "Step: score=507276.08, add SqFtTotLiving\n",
      "Step: score=505574.55, add BldgGrade\n",
      "Step: score=503596.88, add YrBuilt\n",
      "Step: score=503259.49, add Bedrooms\n",
      "Step: score=503147.31, add Bathrooms\n",
      "Step: score=503081.77, add PropertyType_Townhouse\n",
      "Step: score=503079.99, add SqFtFinBasement\n",
      "Step: score=503078.80, add SqFtLot\n",
      "Step: score=503078.80, unchanged None\n",
      "\n",
      "Intercept: 6152843.019\n",
      "Coefficients:\n",
      " SqFtTotLiving: 202.70299936801194\n",
      " BldgGrade: 139484.36486848095\n",
      " YrBuilt: -3550.351682995828\n",
      " Bedrooms: -50994.29630664022\n",
      " Bathrooms: 36887.59054382306\n",
      " PropertyType_Townhouse: 65530.43158217622\n",
      " SqFtFinBasement: 10.818611099330226\n",
      " SqFtLot: 0.12152011589917051\n"
     ]
    }
   ],
   "source": [
    "y = house[outcome]\n",
    "\n",
    "def train_model(variables):\n",
    "    if len(variables) == 0:\n",
    "        return None\n",
    "    model = LinearRegression()\n",
    "    model.fit(X[variables], y)\n",
    "    return model\n",
    "\n",
    "def score_model(model, variables):\n",
    "    if len(variables) == 0:\n",
    "        return AIC_score(y, [y.mean()] * len(y), model, df=1)\n",
    "    return AIC_score(y, model.predict(X[variables]), model)\n",
    "\n",
    "best_model, best_variables = stepwise_selection(X.columns, train_model, score_model, \n",
    "                                                verbose=True)\n",
    "\n",
    "print()\n",
    "print(f'Intercept: {best_model.intercept_:.3f}')\n",
    "print('Coefficients:')\n",
    "for name, coef in zip(best_variables, best_model.coef_):\n",
    "    print(f' {name}: {coef}')"
   ]
  },
  {
   "cell_type": "markdown",
   "metadata": {},
   "source": [
    "## 3 - Weighted regression\n",
    "For the house data recent sale price is more relavent for future prediction, old sale data is less reliable, therefore, we like to emphasis the recent sale data by apply more weight. We will use year the house sale to 2005 as weight.\n",
    "\n",
    "We can calculate the Year from the date column using either a list comprehension or the data frame's `apply` method."
   ]
  },
  {
   "cell_type": "code",
   "execution_count": 18,
   "metadata": {},
   "outputs": [
    {
     "name": "stdout",
     "output_type": "stream",
     "text": [
      "\n",
      "DocumentDate List \n",
      "2006-08-24    49\n",
      "2006-07-26    48\n",
      "2006-04-25    45\n",
      "2006-06-28    45\n",
      "2006-05-22    45\n",
      "2006-06-01    45\n",
      "2006-05-01    43\n",
      "2006-06-13    42\n",
      "2006-06-19    42\n",
      "2006-05-25    42\n",
      "2006-07-18    42\n",
      "2006-06-08    40\n",
      "2006-02-21    40\n",
      "2006-06-21    40\n",
      "2006-07-24    39\n",
      "2006-08-21    38\n",
      "2006-05-30    38\n",
      "2006-08-04    38\n",
      "2006-08-25    37\n",
      "2006-06-12    37\n",
      "2006-06-26    37\n",
      "2006-08-23    37\n",
      "2006-04-26    37\n",
      "2006-03-01    37\n",
      "2006-07-11    37\n",
      "2006-05-08    37\n",
      "2006-08-29    36\n",
      "2006-08-01    36\n",
      "2006-03-20    36\n",
      "2006-03-27    35\n",
      "              ..\n",
      "2014-05-05     1\n",
      "2012-09-24     1\n",
      "2014-03-15     1\n",
      "2006-03-26     1\n",
      "2010-05-22     1\n",
      "2015-02-23     1\n",
      "2010-12-12     1\n",
      "2014-03-07     1\n",
      "2008-11-28     1\n",
      "2013-01-22     1\n",
      "2008-12-24     1\n",
      "2009-09-26     1\n",
      "2012-07-19     1\n",
      "2013-10-23     1\n",
      "2007-10-14     1\n",
      "2006-08-27     1\n",
      "2013-10-02     1\n",
      "2006-10-01     1\n",
      "2010-01-05     1\n",
      "2006-09-02     1\n",
      "2007-08-18     1\n",
      "2011-04-23     1\n",
      "2014-06-13     1\n",
      "2012-02-06     1\n",
      "2011-12-11     1\n",
      "2009-01-14     1\n",
      "2014-06-09     1\n",
      "2014-02-25     1\n",
      "2008-05-24     1\n",
      "2014-08-04     1\n",
      "Name: DocumentDate, Length: 2462, dtype: int64\n"
     ]
    }
   ],
   "source": [
    "print(\"\\nDocumentDate List \\n{}\".format(house['DocumentDate'].value_counts(dropna=False)))"
   ]
  },
  {
   "cell_type": "code",
   "execution_count": 19,
   "metadata": {},
   "outputs": [
    {
     "name": "stderr",
     "output_type": "stream",
     "text": [
      "/Users/siyuandong/anaconda3/lib/python3.7/site-packages/ipykernel_launcher.py:1: SettingWithCopyWarning: \n",
      "A value is trying to be set on a copy of a slice from a DataFrame.\n",
      "Try using .loc[row_indexer,col_indexer] = value instead\n",
      "\n",
      "See the caveats in the documentation: http://pandas.pydata.org/pandas-docs/stable/indexing.html#indexing-view-versus-copy\n",
      "  \"\"\"Entry point for launching an IPython kernel.\n",
      "/Users/siyuandong/anaconda3/lib/python3.7/site-packages/ipykernel_launcher.py:2: SettingWithCopyWarning: \n",
      "A value is trying to be set on a copy of a slice from a DataFrame.\n",
      "Try using .loc[row_indexer,col_indexer] = value instead\n",
      "\n",
      "See the caveats in the documentation: http://pandas.pydata.org/pandas-docs/stable/indexing.html#indexing-view-versus-copy\n",
      "  \n",
      "/Users/siyuandong/anaconda3/lib/python3.7/site-packages/ipykernel_launcher.py:3: SettingWithCopyWarning: \n",
      "A value is trying to be set on a copy of a slice from a DataFrame.\n",
      "Try using .loc[row_indexer,col_indexer] = value instead\n",
      "\n",
      "See the caveats in the documentation: http://pandas.pydata.org/pandas-docs/stable/indexing.html#indexing-view-versus-copy\n",
      "  This is separate from the ipykernel package so we can avoid doing imports until\n"
     ]
    }
   ],
   "source": [
    "house['Year'] = [int(date.split('-')[0]) for date in house.DocumentDate]  #list comprehension\n",
    "house['Year'] = house.DocumentDate.apply(lambda d: int(d.split('-')[0]))  # apply()\n",
    "house['Weight'] = house.Year - 2005 #dynamic weight"
   ]
  },
  {
   "cell_type": "code",
   "execution_count": 20,
   "metadata": {},
   "outputs": [
    {
     "data": {
      "text/html": [
       "<div>\n",
       "<style scoped>\n",
       "    .dataframe tbody tr th:only-of-type {\n",
       "        vertical-align: middle;\n",
       "    }\n",
       "\n",
       "    .dataframe tbody tr th {\n",
       "        vertical-align: top;\n",
       "    }\n",
       "\n",
       "    .dataframe thead th {\n",
       "        text-align: right;\n",
       "    }\n",
       "</style>\n",
       "<table border=\"1\" class=\"dataframe\">\n",
       "  <thead>\n",
       "    <tr style=\"text-align: right;\">\n",
       "      <th></th>\n",
       "      <th>predictor</th>\n",
       "      <th>house_lm</th>\n",
       "      <th>house_wt</th>\n",
       "    </tr>\n",
       "  </thead>\n",
       "  <tbody>\n",
       "    <tr>\n",
       "      <th>0</th>\n",
       "      <td>SqFtTotLiving</td>\n",
       "      <td>234.081173</td>\n",
       "      <td>252.541803</td>\n",
       "    </tr>\n",
       "    <tr>\n",
       "      <th>1</th>\n",
       "      <td>SqFtLot</td>\n",
       "      <td>-0.046528</td>\n",
       "      <td>-0.240873</td>\n",
       "    </tr>\n",
       "    <tr>\n",
       "      <th>2</th>\n",
       "      <td>Bathrooms</td>\n",
       "      <td>-24624.249709</td>\n",
       "      <td>-32419.265789</td>\n",
       "    </tr>\n",
       "    <tr>\n",
       "      <th>3</th>\n",
       "      <td>Bedrooms</td>\n",
       "      <td>-46713.205488</td>\n",
       "      <td>-51339.959630</td>\n",
       "    </tr>\n",
       "    <tr>\n",
       "      <th>4</th>\n",
       "      <td>BldgGrade</td>\n",
       "      <td>107576.239005</td>\n",
       "      <td>116373.225665</td>\n",
       "    </tr>\n",
       "    <tr>\n",
       "      <th>5</th>\n",
       "      <td>intercept</td>\n",
       "      <td>-536138.835997</td>\n",
       "      <td>-601924.818469</td>\n",
       "    </tr>\n",
       "  </tbody>\n",
       "</table>\n",
       "</div>"
      ],
      "text/plain": [
       "       predictor       house_lm       house_wt\n",
       "0  SqFtTotLiving     234.081173     252.541803\n",
       "1        SqFtLot      -0.046528      -0.240873\n",
       "2      Bathrooms  -24624.249709  -32419.265789\n",
       "3       Bedrooms  -46713.205488  -51339.959630\n",
       "4      BldgGrade  107576.239005  116373.225665\n",
       "5      intercept -536138.835997 -601924.818469"
      ]
     },
     "execution_count": 20,
     "metadata": {},
     "output_type": "execute_result"
    }
   ],
   "source": [
    "predictors = ['SqFtTotLiving', 'SqFtLot', 'Bathrooms', \n",
    "              'Bedrooms', 'BldgGrade']\n",
    "outcome = 'AdjSalePrice'\n",
    "\n",
    "house_wt = LinearRegression()\n",
    "house_wt.fit(house[predictors], house[outcome], sample_weight=house.Weight)\n",
    "pd.DataFrame({\n",
    "    'predictor': predictors,\n",
    "    'house_lm': house_lm.coef_,\n",
    "    'house_wt': house_wt.coef_,\n",
    "}).append({\n",
    "    'predictor': 'intercept', \n",
    "    'house_lm': house_lm.intercept_,\n",
    "    'house_wt': house_wt.intercept_,\n",
    "}, ignore_index=True)"
   ]
  },
  {
   "cell_type": "code",
   "execution_count": 21,
   "metadata": {},
   "outputs": [
    {
     "name": "stdout",
     "output_type": "stream",
     "text": [
      "       abs_residual_lm  abs_residual_wt  Year\n",
      "9395      82471.470737     79065.184810  2006\n",
      "16963    142600.439302    133310.336711  2007\n",
      "4310      13056.989435      1370.763994  2007\n",
      "13784    123510.461568    149918.818903  2006\n",
      "1944     216286.218091    240616.019934  2008\n",
      "\n",
      "\n",
      "Year   Abs_residual_lm    Abs_residual_wt\n",
      "2006 141779.65248127384 148583.6098264762\n",
      "2007 149389.8896468404 154860.05180173533\n",
      "2008 142641.86228360652 147461.2445744962\n",
      "2009 149391.65584416204 153877.3629848166\n",
      "2010 164482.0231999801 167795.58513495207\n",
      "2011 169546.11711536732 172907.34912491817\n",
      "2012 172661.28618808868 175203.65530722952\n",
      "2013 205025.9328541157 208497.52077303504\n",
      "2014 180403.88758979968 182387.2863679903\n",
      "2015 171682.04203789736 169144.32337962263\n"
     ]
    },
    {
     "data": {
      "image/png": "[encoded data removed]",
      "text/plain": [
       "<Figure size 720x288 with 2 Axes>"
      ]
     },
     "metadata": {
      "needs_background": "light"
     },
     "output_type": "display_data"
    }
   ],
   "source": [
    "residuals = pd.DataFrame({\n",
    "    'abs_residual_lm': np.abs(house_lm.predict(house[predictors]) - house[outcome]),\n",
    "    'abs_residual_wt': np.abs(house_wt.predict(house[predictors]) - house[outcome]),\n",
    "    'Year': house['Year'],\n",
    "})\n",
    "print(residuals.head())\n",
    "axes = residuals.boxplot(['abs_residual_lm', 'abs_residual_wt'], by='Year', figsize=(10, 4))\n",
    "axes[0].set_ylim(0, 300000)\n",
    "\n",
    "print(\"\\n\\nYear   Abs_residual_lm    Abs_residual_wt\")\n",
    "for year, group in residuals.groupby('Year'):\n",
    "    print(year, np.mean(group['abs_residual_lm']), np.mean(group['abs_residual_wt']))"
   ]
  },
  {
   "cell_type": "markdown",
   "metadata": {},
   "source": [
    "Seems only help 2015 prediction reduce the residuale.If we have a recent holdout sample we can test the weight could help for furture prediction or not"
   ]
  },
  {
   "cell_type": "markdown",
   "metadata": {},
   "source": [
    "# 4 - Regularization"
   ]
  },
  {
   "cell_type": "code",
   "execution_count": 22,
   "metadata": {},
   "outputs": [
    {
     "name": "stdout",
     "output_type": "stream",
     "text": [
      "       SqFtTotLiving  SqFtLot  Bathrooms  Bedrooms  BldgGrade   PropertyType  \\\n",
      "9395            1610     7200       1.75         3          7  Single Family   \n",
      "16963           1950     4249       1.00         3          7  Single Family   \n",
      "4310            1610    95396       1.50         4          8  Single Family   \n",
      "13784           1050     8447       2.75         4          7  Single Family   \n",
      "1944            3140     4000       3.50         6         10  Single Family   \n",
      "\n",
      "       NbrLivingUnits  SqFtFinBasement  YrBuilt  YrRenovated  NewConstruction  \n",
      "9395                1                0     1974            0            False  \n",
      "16963               1              420     1937         1995            False  \n",
      "4310                1                0     1959         2009            False  \n",
      "13784               1                0     1961            0            False  \n",
      "1944                1              860     1929         2010            False  \n",
      "\n",
      " PropertyType List \n",
      "Single Family    16563\n",
      "Townhouse         1374\n",
      "Multiplex          212\n",
      "Name: PropertyType, dtype: int64\n"
     ]
    }
   ],
   "source": [
    "predictors = ['SqFtTotLiving', 'SqFtLot', 'Bathrooms', 'Bedrooms',\n",
    "              'BldgGrade', 'PropertyType', 'NbrLivingUnits',\n",
    "              'SqFtFinBasement', 'YrBuilt', 'YrRenovated', \n",
    "              'NewConstruction']\n",
    "\n",
    "outcome = 'AdjSalePrice'\n",
    "\n",
    "print(house[predictors].head())\n",
    "\n",
    "print(\"\\n PropertyType List \\n{}\".format(house['PropertyType'].value_counts(dropna=False)))\n",
    "\n",
    "X_train = pd.get_dummies(house[predictors], drop_first=True)\n",
    "X_train['NewConstruction'] = [1 if nc else 0 for nc in X_train['NewConstruction']]\n",
    "y_train = house[outcome]\n",
    "\n",
    "X_test = pd.get_dummies(house_test[predictors], drop_first=True)\n",
    "X_test['NewConstruction'] = [1 if nc else 0 for nc in X_test['NewConstruction']]\n",
    "y_test = house_test[outcome]"
   ]
  },
  {
   "cell_type": "markdown",
   "metadata": {},
   "source": [
    "### Regular Multiple Regression"
   ]
  },
  {
   "cell_type": "code",
   "execution_count": 23,
   "metadata": {},
   "outputs": [
    {
     "data": {
      "text/plain": [
       "{'Intercept': 6181070.277,\n",
       " 'SqFtTotLiving': 202.798,\n",
       " 'SqFtLot': 0.119,\n",
       " 'Bathrooms': 37845.103,\n",
       " 'Bedrooms': -50735.242,\n",
       " 'BldgGrade': 139260.017,\n",
       " 'NbrLivingUnits': 1164.566,\n",
       " 'SqFtFinBasement': 10.288,\n",
       " 'YrBuilt': -3576.882,\n",
       " 'YrRenovated': -3.173,\n",
       " 'NewConstruction': -1659.347,\n",
       " 'PropertyType_Single Family': 22321.216}"
      ]
     },
     "execution_count": 23,
     "metadata": {},
     "output_type": "execute_result"
    }
   ],
   "source": [
    "house_lm = LinearRegression()\n",
    "house_lm.fit(X_train, y_train)\n",
    "\n",
    "mlr_coefs = dict(\n",
    "    zip(['Intercept'] + X_train.columns.tolist()[:-1], \n",
    "        np.round(np.concatenate((house_lm.intercept_, house_lm.coef_), \n",
    "                                axis=None), 3))\n",
    ")\n",
    "\n",
    "mlr_coefs"
   ]
  },
  {
   "cell_type": "code",
   "execution_count": 24,
   "metadata": {},
   "outputs": [
    {
     "name": "stdout",
     "output_type": "stream",
     "text": [
      "regular mlr MSE: 213758\n",
      "r2_test: 0.6379\n"
     ]
    }
   ],
   "source": [
    "fitted_test = house_lm.predict(X_test)\n",
    "MSE_test = np.sqrt(mean_squared_error(y_test, fitted_test))\n",
    "r2 = r2_score(y_test, fitted_test)\n",
    "print(f'regular mlr MSE: {MSE_test:.0f}')\n",
    "print(f'r2_test: {r2:.4f}')"
   ]
  },
  {
   "cell_type": "markdown",
   "metadata": {},
   "source": [
    "### L2 - Ridge regression (Parameter shrinkage)"
   ]
  },
  {
   "cell_type": "code",
   "execution_count": 25,
   "metadata": {},
   "outputs": [
    {
     "name": "stdout",
     "output_type": "stream",
     "text": [
      "Ridge Regression MAE: 134659.834\n",
      "Ridge Regression coefficients:\n"
     ]
    },
    {
     "data": {
      "text/plain": [
       "{'Intercept': 6054543.677,\n",
       " 'SqFtTotLiving': 198.213,\n",
       " 'SqFtLot': 0.131,\n",
       " 'Bathrooms': 39315.641,\n",
       " 'Bedrooms': -49288.143,\n",
       " 'BldgGrade': 138960.679,\n",
       " 'NbrLivingUnits': -4702.932,\n",
       " 'SqFtFinBasement': 13.28,\n",
       " 'YrBuilt': -3502.708,\n",
       " 'YrRenovated': -1.991,\n",
       " 'NewConstruction': -1710.044,\n",
       " 'PropertyType_Single Family': 11463.788}"
      ]
     },
     "execution_count": 25,
     "metadata": {},
     "output_type": "execute_result"
    }
   ],
   "source": [
    "ridge_cv = RidgeCV(normalize=True, alphas=np.logspace(-10, 1, 400))\n",
    "ridge_model = ridge_cv.fit(X_train, y_train)\n",
    "ridge_prediction = ridge_model.predict(X_test)\n",
    "ridge_mae = np.mean(np.abs(y_test - ridge_prediction))\n",
    "ridge_coefs = dict(\n",
    "    zip(['Intercept'] + X_train.columns.tolist()[:-1], \n",
    "        np.round(np.concatenate((ridge_model.intercept_, ridge_model.coef_), \n",
    "                                axis=None), 3))\n",
    ")\n",
    "\n",
    "print('Ridge Regression MAE: {}'.format(np.round(ridge_mae, 3)))\n",
    "print('Ridge Regression coefficients:')\n",
    "ridge_coefs"
   ]
  },
  {
   "cell_type": "markdown",
   "metadata": {},
   "source": [
    "### L1 - Lasso regression (Parameter sparsity)"
   ]
  },
  {
   "cell_type": "code",
   "execution_count": 26,
   "metadata": {},
   "outputs": [
    {
     "name": "stderr",
     "output_type": "stream",
     "text": [
      "/Users/siyuandong/anaconda3/lib/python3.7/site-packages/sklearn/model_selection/_split.py:1978: FutureWarning: The default value of cv will change from 3 to 5 in version 0.22. Specify it explicitly to silence this warning.\n",
      "  warnings.warn(CV_WARNING, FutureWarning)\n"
     ]
    },
    {
     "name": "stdout",
     "output_type": "stream",
     "text": [
      "LASSO MAE: 134549.433\n",
      "LASSO coefficients:\n"
     ]
    },
    {
     "data": {
      "text/plain": [
       "{'Intercept': 5922422.267,\n",
       " 'SqFtTotLiving': 200.176,\n",
       " 'SqFtLot': 0.077,\n",
       " 'Bathrooms': 33634.066,\n",
       " 'Bedrooms': -47293.233,\n",
       " 'BldgGrade': 139066.266,\n",
       " 'NbrLivingUnits': -345.682,\n",
       " 'SqFtFinBasement': 10.514,\n",
       " 'YrBuilt': -3431.097,\n",
       " 'YrRenovated': -0.0,\n",
       " 'NewConstruction': -0.0,\n",
       " 'PropertyType_Single Family': -0.0}"
      ]
     },
     "execution_count": 26,
     "metadata": {},
     "output_type": "execute_result"
    }
   ],
   "source": [
    "lasso_cv = LassoCV(normalize=True, alphas=np.logspace(-10, 1, 400))\n",
    "lasso_model = lasso_cv.fit(X_train, y_train)\n",
    "lasso_prediction = lasso_model.predict(X_test)\n",
    "lasso_mae = np.mean(np.abs(y_test - lasso_prediction))\n",
    "lasso_coefs = dict(\n",
    "    zip(['Intercept'] + X_train.columns.tolist()[:-1], \n",
    "        np.round(np.concatenate((lasso_model.intercept_, lasso_model.coef_), axis=None), 3))\n",
    ")\n",
    "\n",
    "print('LASSO MAE: {}'.format(np.round(lasso_mae, 3)))\n",
    "print('LASSO coefficients:')\n",
    "lasso_coefs"
   ]
  },
  {
   "cell_type": "markdown",
   "metadata": {},
   "source": [
    "# Home Work"
   ]
  },
  {
   "cell_type": "markdown",
   "metadata": {},
   "source": [
    "1. Compare the three model fits and draw conclusion \n",
    "from the comparision of the three model firt regarding there coefficent difference"
   ]
  },
  {
   "cell_type": "markdown",
   "metadata": {},
   "source": [
    "2. Show the three model performance on both tran and test"
   ]
  }
 ],
 "metadata": {
  "kernelspec": {
   "display_name": "Python 3",
   "language": "python",
   "name": "python3"
  },
  "language_info": {
   "codemirror_mode": {
    "name": "ipython",
    "version": 3
   },
   "file_extension": ".py",
   "mimetype": "text/x-python",
   "name": "python",
   "nbconvert_exporter": "python",
   "pygments_lexer": "ipython3",
   "version": "3.7.3"
  }
 },
 "nbformat": 4,
 "nbformat_minor": 2
}
