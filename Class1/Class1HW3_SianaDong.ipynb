{
 "cells": [
  {
   "cell_type": "markdown",
   "metadata": {},
   "source": [
    "### A rental car company claims the mean time to rent a car on their website is 60 seconds with a standard deviation of 30 seconds. A random sample of 36 customers attempted to rent a car on the website. \n",
    "\n",
    "### 1) If the mean time to rent was 65 seconds. Is this enough evidence to contradict the company's claim at 5% confidence level? What's the power?"
   ]
  },
  {
   "cell_type": "code",
   "execution_count": 12,
   "metadata": {},
   "outputs": [],
   "source": [
    "import scipy.stats as stats\n",
    "import math"
   ]
  },
  {
   "cell_type": "markdown",
   "metadata": {},
   "source": [
    "H0: μ = μ0          \n",
    "H1: μ ≠ μ0"
   ]
  },
  {
   "cell_type": "code",
   "execution_count": 6,
   "metadata": {},
   "outputs": [
    {
     "name": "stdout",
     "output_type": "stream",
     "text": [
      "Z_Score: 1.0\n"
     ]
    }
   ],
   "source": [
    "μ = 65\n",
    "μ0 = 60\n",
    "std = 30\n",
    "n = 36\n",
    "Z = (μ-μ0)/(std/math.sqrt(n))\n",
    "print('Z_Score: ' + str(Z))"
   ]
  },
  {
   "cell_type": "code",
   "execution_count": 11,
   "metadata": {},
   "outputs": [
    {
     "name": "stdout",
     "output_type": "stream",
     "text": [
      "p_value: 0.159\n",
      "power: 84.1%\n"
     ]
    }
   ],
   "source": [
    "power = round(stats.norm.cdf(Z), 3)\n",
    "p_value =round(1 - power, 3)\n",
    "print('p_value: ' + str(p_value))\n",
    "print('power: ' + str(power*100) +'%')"
   ]
  },
  {
   "cell_type": "markdown",
   "metadata": {},
   "source": [
    "#### Because the p_value is bigger than the significance level at 5%, we cannot reject the null hyphothesis. \n",
    "#### Power is 84.1%."
   ]
  },
  {
   "cell_type": "markdown",
   "metadata": {},
   "source": [
    "### 2) If the analysts team believe the claim is not correct and the the time for rent is 67 seconds, what's the sample size need to designed for a sufficient test with 85% fo power"
   ]
  },
  {
   "cell_type": "code",
   "execution_count": 16,
   "metadata": {},
   "outputs": [
    {
     "name": "stdout",
     "output_type": "stream",
     "text": [
      "The new Z score: 1.0364333894937898\n"
     ]
    }
   ],
   "source": [
    "new_Z = stats.norm.ppf(0.85)\n",
    "print('The new Z score: ' + str(new_Z))"
   ]
  },
  {
   "cell_type": "code",
   "execution_count": 21,
   "metadata": {},
   "outputs": [
    {
     "data": {
      "text/plain": [
       "19.730097015751575"
      ]
     },
     "execution_count": 21,
     "metadata": {},
     "output_type": "execute_result"
    }
   ],
   "source": [
    "new_μ = 67\n",
    "new_n = ((new_Z*std)/(new_μ-μ0))**2\n",
    "new_n"
   ]
  },
  {
   "cell_type": "code",
   "execution_count": null,
   "metadata": {},
   "outputs": [],
   "source": []
  }
 ],
 "metadata": {
  "kernelspec": {
   "display_name": "Python 3",
   "language": "python",
   "name": "python3"
  },
  "language_info": {
   "codemirror_mode": {
    "name": "ipython",
    "version": 3
   },
   "file_extension": ".py",
   "mimetype": "text/x-python",
   "name": "python",
   "nbconvert_exporter": "python",
   "pygments_lexer": "ipython3",
   "version": "3.7.3"
  }
 },
 "nbformat": 4,
 "nbformat_minor": 2
}
